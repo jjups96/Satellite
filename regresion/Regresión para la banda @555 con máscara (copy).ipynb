{
 "cells": [
  {
   "cell_type": "markdown",
   "metadata": {},
   "source": [
    "# Análisis estadístico para la banda @555 utilizando una máscara\n",
    "\n",
    "Primero importaremos las librerías necesarias."
   ]
  },
  {
   "cell_type": "code",
   "execution_count": 2,
   "metadata": {},
   "outputs": [],
   "source": [
    "import numpy as np\n",
    "import pandas"
   ]
  },
  {
   "cell_type": "markdown",
   "metadata": {},
   "source": [
    "Leemos los datos para enero."
   ]
  },
  {
   "cell_type": "code",
   "execution_count": 3,
   "metadata": {},
   "outputs": [],
   "source": [
    "# Para el sensor SeaWiFS.\n",
    "\n",
    "with open('./ENERO_2003/SeaWiFS/Composicion (Lt_555).txt') as archivo_seawifs:\n",
    "    for _ in range(5):\n",
    "        # Ignoramos los primeros 5 renglones del archivo.\n",
    "        archivo_seawifs.readline()\n",
    "    # Separamos los datos en una matriz.\n",
    "    datos_seawifs = np.array([archivo_seawifs.readline().split()\n",
    "                              for _ in range(127)])\n",
    "\n",
    "# Convertimos a reales.\n",
    "datos_seawifs = np.array([[float(dat) for dat in row] for row in datos_seawifs])"
   ]
  },
  {
   "cell_type": "code",
   "execution_count": 4,
   "metadata": {},
   "outputs": [],
   "source": [
    "# Para el sensor MODIS. Es lo mismo pero con otro archivo.\n",
    "\n",
    "with open('./ENERO_2003/MODIS/Composicion (Band 12).txt') as archivo_modis:\n",
    "    for _ in range(5):\n",
    "        # Ignoramos los primeros 5 renglones del archivo.\n",
    "        archivo_modis.readline()\n",
    "    # Separamos los datos en una matriz.\n",
    "    datos_modis = np.array([archivo_modis.readline().split()\n",
    "                              for _ in range(127)])\n",
    "\n",
    "# Convertimos a reales.\n",
    "datos_modis = np.array([[float(dat) for dat in row] for row in datos_modis])"
   ]
  },
  {
   "cell_type": "markdown",
   "metadata": {},
   "source": [
    "Revisamos datos estadísticos de los datos sucios."
   ]
  },
  {
   "cell_type": "code",
   "execution_count": 5,
   "metadata": {},
   "outputs": [
    {
     "name": "stdout",
     "output_type": "stream",
     "text": [
      "Promedio de los datos del SeaWiFS: 26.797526653779055.\n",
      "Promedio de los datos del MODIS: 26.92018436512801.\n",
      "Varianza de los datos del SeaWiFS: 63.224910538906244.\n",
      "Varianza de los datos del MODIS: 28.748522280901284.\n"
     ]
    }
   ],
   "source": [
    "media_seawifs = np.mean(datos_seawifs)\n",
    "media_modis = np.mean(datos_modis)\n",
    "\n",
    "var_seawifs = np.var(datos_seawifs)\n",
    "var_modis = np.var(datos_modis)\n",
    "\n",
    "print(\"Promedio de los datos del SeaWiFS: {}.\".format(media_seawifs))\n",
    "print(\"Promedio de los datos del MODIS: {}.\".format(media_modis))\n",
    "\n",
    "print(\"Varianza de los datos del SeaWiFS: {}.\".format(var_seawifs))\n",
    "print(\"Varianza de los datos del MODIS: {}.\".format(var_modis))"
   ]
  },
  {
   "cell_type": "markdown",
   "metadata": {},
   "source": [
    "### Función de la máscara"
   ]
  },
  {
   "cell_type": "code",
   "execution_count": 6,
   "metadata": {},
   "outputs": [],
   "source": [
    "def filter(img, row, column, tol):\n",
    "    mean_img = np.mean(img)\n",
    "    \n",
    "    for i in range(row):\n",
    "        row_sum = 0.0\n",
    "        row_mean = 0.0\n",
    "        \n",
    "        for j in range(column):\n",
    "            row_sum += img[i][j]\n",
    "            row_mean = row_sum / (j + 1)\n",
    "            \n",
    "            if np.abs(img[i][j] - mean_img) >= tol:\n",
    "                img[i][j] = row_mean"
   ]
  },
  {
   "cell_type": "markdown",
   "metadata": {},
   "source": [
    "Ahora limpiamos las composiciones."
   ]
  },
  {
   "cell_type": "code",
   "execution_count": 7,
   "metadata": {},
   "outputs": [
    {
     "data": {
      "text/plain": [
       "array([[24.5353    , 24.5756    , 24.5631    , ..., 26.50481273,\n",
       "        26.71709036, 26.93996168],\n",
       "       [24.5994    , 24.6272    , 24.5756    , ..., 26.09009576,\n",
       "        26.27158614, 26.46403832],\n",
       "       [27.3773    , 26.8937    , 26.8421    , ..., 26.03883939,\n",
       "        26.22861867, 26.42398563],\n",
       "       ...,\n",
       "       [61.9183    , 62.3533    , 62.64406667, ..., 24.9204    ,\n",
       "        24.9235    , 24.9735    ],\n",
       "       [60.591     , 61.6896    , 62.20156667, ..., 24.8703    ,\n",
       "        24.9094    , 24.9594    ],\n",
       "       [60.591     , 61.6896    , 62.20156667, ..., 24.8703    ,\n",
       "        24.9094    , 24.9594    ]])"
      ]
     },
     "execution_count": 7,
     "metadata": {},
     "output_type": "execute_result"
    }
   ],
   "source": [
    "filter(datos_seawifs, 127, 167, 3)\n",
    "datos_seawifs"
   ]
  },
  {
   "cell_type": "code",
   "execution_count": 8,
   "metadata": {},
   "outputs": [
    {
     "data": {
      "text/plain": [
       "array([[24.7403    , 24.7403    , 24.7112    , ..., 26.64826606,\n",
       "        26.81535904, 27.0004515 ],\n",
       "       [24.7388    , 24.7388    , 24.7113    , ..., 26.63982303,\n",
       "        26.79974639, 26.9795515 ],\n",
       "       [24.7355    , 24.7355    , 24.6923    , ..., 26.31475576,\n",
       "        26.4477747 , 26.5988509 ],\n",
       "       ...,\n",
       "       [49.0502    , 49.0502    , 49.38476667, ..., 25.9636    ,\n",
       "        26.0147    , 26.0498    ],\n",
       "       [49.6788    , 49.6788    , 50.29786667, ..., 25.9722    ,\n",
       "        26.0175    , 26.0317    ],\n",
       "       [49.2006    , 49.2006    , 49.5401    , ..., 25.9391    ,\n",
       "        26.002     , 26.0477    ]])"
      ]
     },
     "execution_count": 8,
     "metadata": {},
     "output_type": "execute_result"
    }
   ],
   "source": [
    "filter(datos_modis, 127, 167, 3)\n",
    "datos_modis"
   ]
  },
  {
   "cell_type": "code",
   "execution_count": 9,
   "metadata": {},
   "outputs": [
    {
     "name": "stdout",
     "output_type": "stream",
     "text": [
      "Promedio de los datos del SeaWiFS: 26.017901787674127.\n",
      "Promedio de los datos del MODIS: 26.184175727456445.\n",
      "Varianza de los datos del SeaWiFS: 44.49495268196785.\n",
      "Varianza de los datos del MODIS: 14.596864046492074.\n"
     ]
    }
   ],
   "source": [
    "media_seawifs = np.mean(datos_seawifs)\n",
    "media_modis = np.mean(datos_modis)\n",
    "\n",
    "var_seawifs = np.var(datos_seawifs)\n",
    "var_modis = np.var(datos_modis)\n",
    "\n",
    "print(\"Promedio de los datos del SeaWiFS: {}.\".format(media_seawifs))\n",
    "print(\"Promedio de los datos del MODIS: {}.\".format(media_modis))\n",
    "\n",
    "print(\"Varianza de los datos del SeaWiFS: {}.\".format(var_seawifs))\n",
    "print(\"Varianza de los datos del MODIS: {}.\".format(var_modis))"
   ]
  },
  {
   "cell_type": "code",
   "execution_count": 10,
   "metadata": {},
   "outputs": [
    {
     "name": "stdout",
     "output_type": "stream",
     "text": [
      "Media aritmética de las distancias entre pixeles: 1.444813655799594\n",
      "Varianza de las distancias entre pixeles: 9.074925288456772.\n"
     ]
    }
   ],
   "source": [
    "datos_comb = abs(datos_seawifs - datos_modis)\n",
    "ma_comb = np.mean(datos_comb)\n",
    "var_comb = np.var(datos_comb)\n",
    "\n",
    "print(\"Media aritmética de las distancias entre pixeles: {}\".format(ma_comb))\n",
    "print(\"Varianza de las distancias entre pixeles: {}.\".format(var_comb))"
   ]
  },
  {
   "cell_type": "markdown",
   "metadata": {},
   "source": [
    "## Febrero"
   ]
  },
  {
   "cell_type": "code",
   "execution_count": 11,
   "metadata": {},
   "outputs": [
    {
     "name": "stdout",
     "output_type": "stream",
     "text": [
      "Promedio de los datos del SeaWiFS sin limpiar: 31.519342232071295.\n",
      "Promedio de los datos del MODIS sin limpiar: 28.102216973926165.\n",
      "Varianza de los datos del SeaWiFS sin limpiar: 144.5797617945364.\n",
      "Varianza de los datos del MODIS sin limpiar: 33.49479096316608.\n",
      "Promedio de los datos del SeaWiFS limpios: 33.10474555042786.\n",
      "Promedio de los datos del MODIS limpios: 27.24017230088285.\n",
      "Varianza de los datos del SeaWiFS limpios: 112.82862774152636.\n",
      "Varianza de los datos del MODIS limpios: 15.197387492984772.\n",
      "Media aritmética de las distancias entre pixeles: 5.966209244935714\n",
      "Varianza de las distancias entre pixeles: 65.05704543088127.\n"
     ]
    }
   ],
   "source": [
    "# Para el sensor SeaWiFS.\n",
    "\n",
    "with open('./FEBRERO_2003/SeaWiFS/3_Bandas/Composicion (Lt_555).txt') as archivo_seawifs:\n",
    "    for _ in range(5):\n",
    "        # Ignoramos los primeros 5 renglones del archivo.\n",
    "        archivo_seawifs.readline()\n",
    "    # Separamos los datos en una matriz.\n",
    "    datos_seawifs = np.array([archivo_seawifs.readline().split()\n",
    "                              for _ in range(127)])\n",
    "\n",
    "# Convertimos a reales.\n",
    "datos_seawifs = np.array([[float(dat) for dat in row] for row in datos_seawifs])\n",
    "\n",
    "# Para el sensor MODIS. Es lo mismo pero con otro archivo.\n",
    "\n",
    "with open('./FEBRERO_2003/MODIS/3_Bandas/Composicion (B12).txt') as archivo_modis:\n",
    "    for _ in range(5):\n",
    "        # Ignoramos los primeros 5 renglones del archivo.\n",
    "        archivo_modis.readline()\n",
    "    # Separamos los datos en una matriz.\n",
    "    datos_modis = np.array([archivo_modis.readline().split()\n",
    "                              for _ in range(127)])\n",
    "\n",
    "# Convertimos a reales.\n",
    "datos_modis = np.array([[float(dat) for dat in row] for row in datos_modis])\n",
    "\n",
    "##-----------------------------------------------\n",
    "\n",
    "media_seawifs = np.mean(datos_seawifs)\n",
    "media_modis = np.mean(datos_modis)\n",
    "\n",
    "var_seawifs = np.var(datos_seawifs)\n",
    "var_modis = np.var(datos_modis)\n",
    "\n",
    "print(\"Promedio de los datos del SeaWiFS sin limpiar: {}.\".format(media_seawifs))\n",
    "print(\"Promedio de los datos del MODIS sin limpiar: {}.\".format(media_modis))\n",
    "\n",
    "print(\"Varianza de los datos del SeaWiFS sin limpiar: {}.\".format(var_seawifs))\n",
    "print(\"Varianza de los datos del MODIS sin limpiar: {}.\".format(var_modis))\n",
    "\n",
    "##-----------------------------------------------\n",
    "\n",
    "filter(datos_seawifs, 127, 167, 3)\n",
    "filter(datos_modis, 127, 167, 3)\n",
    "\n",
    "##-----------------------------------------------\n",
    "\n",
    "media_seawifs = np.mean(datos_seawifs)\n",
    "media_modis = np.mean(datos_modis)\n",
    "\n",
    "var_seawifs = np.var(datos_seawifs)\n",
    "var_modis = np.var(datos_modis)\n",
    "\n",
    "print(\"Promedio de los datos del SeaWiFS limpios: {}.\".format(media_seawifs))\n",
    "print(\"Promedio de los datos del MODIS limpios: {}.\".format(media_modis))\n",
    "\n",
    "print(\"Varianza de los datos del SeaWiFS limpios: {}.\".format(var_seawifs))\n",
    "print(\"Varianza de los datos del MODIS limpios: {}.\".format(var_modis))\n",
    "\n",
    "##-----------------------------------------------\n",
    "\n",
    "datos_comb = abs(datos_seawifs - datos_modis)\n",
    "ma_comb = np.mean(datos_comb)\n",
    "var_comb = np.var(datos_comb)\n",
    "\n",
    "print(\"Media aritmética de las distancias entre pixeles: {}\".format(ma_comb))\n",
    "print(\"Varianza de las distancias entre pixeles: {}.\".format(var_comb))"
   ]
  },
  {
   "cell_type": "markdown",
   "metadata": {},
   "source": [
    "## Marzo"
   ]
  },
  {
   "cell_type": "code",
   "execution_count": 12,
   "metadata": {},
   "outputs": [
    {
     "name": "stdout",
     "output_type": "stream",
     "text": [
      "Promedio de los datos del SeaWiFS sin limpiar: 33.66331414493847.\n",
      "Promedio de los datos del MODIS sin limpiar: 35.639694639068324.\n",
      "Varianza de los datos del SeaWiFS sin limpiar: 156.73346272014223.\n",
      "Varianza de los datos del MODIS sin limpiar: 15.190722190206069.\n",
      "Promedio de los datos del SeaWiFS limpios: 34.46315757353937.\n",
      "Promedio de los datos del MODIS limpios: 35.43879681594919.\n",
      "Varianza de los datos del SeaWiFS limpios: 112.97032206776257.\n",
      "Varianza de los datos del MODIS limpios: 7.465222938049896.\n",
      "Media aritmética de las distancias entre pixeles: 6.873540532708012\n",
      "Varianza de las distancias entre pixeles: 54.321485937044976.\n"
     ]
    }
   ],
   "source": [
    "# Para el sensor SeaWiFS.\n",
    "\n",
    "with open('./MARZO_2003/SeaWiFS/Composicion (Lt_555).txt') as archivo_seawifs:\n",
    "    for _ in range(5):\n",
    "        # Ignoramos los primeros 5 renglones del archivo.\n",
    "        archivo_seawifs.readline()\n",
    "    # Separamos los datos en una matriz.\n",
    "    datos_seawifs = np.array([archivo_seawifs.readline().split()\n",
    "                              for _ in range(127)])\n",
    "\n",
    "# Convertimos a reales.\n",
    "datos_seawifs = np.array([[float(dat) for dat in row] for row in datos_seawifs])\n",
    "\n",
    "# Para el sensor MODIS. Es lo mismo pero con otro archivo.\n",
    "\n",
    "with open('./MARZO_2003/MODIS/Composicion (B12).txt') as archivo_modis:\n",
    "    for _ in range(5):\n",
    "        # Ignoramos los primeros 5 renglones del archivo.\n",
    "        archivo_modis.readline()\n",
    "    # Separamos los datos en una matriz.\n",
    "    datos_modis = np.array([archivo_modis.readline().split()\n",
    "                              for _ in range(127)])\n",
    "\n",
    "# Convertimos a reales.\n",
    "datos_modis = np.array([[float(dat) for dat in row] for row in datos_modis])\n",
    "\n",
    "##-----------------------------------------------\n",
    "\n",
    "media_seawifs = np.mean(datos_seawifs)\n",
    "media_modis = np.mean(datos_modis)\n",
    "\n",
    "var_seawifs = np.var(datos_seawifs)\n",
    "var_modis = np.var(datos_modis)\n",
    "\n",
    "print(\"Promedio de los datos del SeaWiFS sin limpiar: {}.\".format(media_seawifs))\n",
    "print(\"Promedio de los datos del MODIS sin limpiar: {}.\".format(media_modis))\n",
    "\n",
    "print(\"Varianza de los datos del SeaWiFS sin limpiar: {}.\".format(var_seawifs))\n",
    "print(\"Varianza de los datos del MODIS sin limpiar: {}.\".format(var_modis))\n",
    "\n",
    "##-----------------------------------------------\n",
    "\n",
    "filter(datos_seawifs, 127, 167, 3)\n",
    "filter(datos_modis, 127, 167, 3)\n",
    "\n",
    "##-----------------------------------------------\n",
    "\n",
    "media_seawifs = np.mean(datos_seawifs)\n",
    "media_modis = np.mean(datos_modis)\n",
    "\n",
    "var_seawifs = np.var(datos_seawifs)\n",
    "var_modis = np.var(datos_modis)\n",
    "\n",
    "print(\"Promedio de los datos del SeaWiFS limpios: {}.\".format(media_seawifs))\n",
    "print(\"Promedio de los datos del MODIS limpios: {}.\".format(media_modis))\n",
    "\n",
    "print(\"Varianza de los datos del SeaWiFS limpios: {}.\".format(var_seawifs))\n",
    "print(\"Varianza de los datos del MODIS limpios: {}.\".format(var_modis))\n",
    "\n",
    "##-----------------------------------------------\n",
    "\n",
    "datos_comb = abs(datos_seawifs - datos_modis)\n",
    "ma_comb = np.mean(datos_comb)\n",
    "var_comb = np.var(datos_comb)\n",
    "\n",
    "print(\"Media aritmética de las distancias entre pixeles: {}\".format(ma_comb))\n",
    "print(\"Varianza de las distancias entre pixeles: {}.\".format(var_comb))"
   ]
  },
  {
   "cell_type": "markdown",
   "metadata": {},
   "source": [
    "## Abril"
   ]
  },
  {
   "cell_type": "code",
   "execution_count": 13,
   "metadata": {},
   "outputs": [
    {
     "name": "stdout",
     "output_type": "stream",
     "text": [
      "Promedio de los datos del SeaWiFS sin limpiar: 34.17170616719318.\n",
      "Promedio de los datos del MODIS sin limpiar: 36.77222199537932.\n",
      "Varianza de los datos del SeaWiFS sin limpiar: 105.87959025028778.\n",
      "Varianza de los datos del MODIS sin limpiar: 32.54352000849399.\n",
      "Promedio de los datos del SeaWiFS limpios: 35.033572619334855.\n",
      "Promedio de los datos del MODIS limpios: 36.58826760975973.\n",
      "Varianza de los datos del SeaWiFS limpios: 91.4627630762427.\n",
      "Varianza de los datos del MODIS limpios: 15.231726959335639.\n",
      "Media aritmética de las distancias entre pixeles: 7.980305905572373\n",
      "Varianza de las distancias entre pixeles: 100.73095436456205.\n"
     ]
    }
   ],
   "source": [
    "# Para el sensor SeaWiFS.\n",
    "\n",
    "with open('./ABRIL_2003_CORREGIDOS/SeaWiFS/Composicion (B555).txt') as archivo_seawifs:\n",
    "    for _ in range(5):\n",
    "        # Ignoramos los primeros 5 renglones del archivo.\n",
    "        archivo_seawifs.readline()\n",
    "    # Separamos los datos en una matriz.\n",
    "    datos_seawifs = np.array([archivo_seawifs.readline().split()\n",
    "                              for _ in range(127)])\n",
    "\n",
    "# Convertimos a reales.\n",
    "datos_seawifs = np.array([[float(dat) for dat in row] for row in datos_seawifs])\n",
    "\n",
    "# Para el sensor MODIS. Es lo mismo pero con otro archivo.\n",
    "\n",
    "with open('./ABRIL_2003_CORREGIDOS/MODIS/Composicion (B12).txt') as archivo_modis:\n",
    "    for _ in range(5):\n",
    "        # Ignoramos los primeros 5 renglones del archivo.\n",
    "        archivo_modis.readline()\n",
    "    # Separamos los datos en una matriz.\n",
    "    datos_modis = np.array([archivo_modis.readline().split()\n",
    "                              for _ in range(127)])\n",
    "\n",
    "# Convertimos a reales.\n",
    "datos_modis = np.array([[float(dat) for dat in row] for row in datos_modis])\n",
    "\n",
    "##-----------------------------------------------\n",
    "\n",
    "media_seawifs = np.mean(datos_seawifs)\n",
    "media_modis = np.mean(datos_modis)\n",
    "\n",
    "var_seawifs = np.var(datos_seawifs)\n",
    "var_modis = np.var(datos_modis)\n",
    "\n",
    "print(\"Promedio de los datos del SeaWiFS sin limpiar: {}.\".format(media_seawifs))\n",
    "print(\"Promedio de los datos del MODIS sin limpiar: {}.\".format(media_modis))\n",
    "\n",
    "print(\"Varianza de los datos del SeaWiFS sin limpiar: {}.\".format(var_seawifs))\n",
    "print(\"Varianza de los datos del MODIS sin limpiar: {}.\".format(var_modis))\n",
    "\n",
    "##-----------------------------------------------\n",
    "\n",
    "filter(datos_seawifs, 127, 167, 3)\n",
    "filter(datos_modis, 127, 167, 3)\n",
    "\n",
    "##-----------------------------------------------\n",
    "\n",
    "media_seawifs = np.mean(datos_seawifs)\n",
    "media_modis = np.mean(datos_modis)\n",
    "\n",
    "var_seawifs = np.var(datos_seawifs)\n",
    "var_modis = np.var(datos_modis)\n",
    "\n",
    "print(\"Promedio de los datos del SeaWiFS limpios: {}.\".format(media_seawifs))\n",
    "print(\"Promedio de los datos del MODIS limpios: {}.\".format(media_modis))\n",
    "\n",
    "print(\"Varianza de los datos del SeaWiFS limpios: {}.\".format(var_seawifs))\n",
    "print(\"Varianza de los datos del MODIS limpios: {}.\".format(var_modis))\n",
    "\n",
    "##-----------------------------------------------\n",
    "\n",
    "datos_comb = abs(datos_seawifs - datos_modis)\n",
    "ma_comb = np.mean(datos_comb)\n",
    "var_comb = np.var(datos_comb)\n",
    "\n",
    "print(\"Media aritmética de las distancias entre pixeles: {}\".format(ma_comb))\n",
    "print(\"Varianza de las distancias entre pixeles: {}.\".format(var_comb))"
   ]
  },
  {
   "cell_type": "markdown",
   "metadata": {},
   "source": [
    "## Mayo"
   ]
  },
  {
   "cell_type": "code",
   "execution_count": 15,
   "metadata": {},
   "outputs": [
    {
     "name": "stdout",
     "output_type": "stream",
     "text": [
      "Promedio de los datos del SeaWiFS sin limpiar: 35.705850686029514.\n",
      "Promedio de los datos del MODIS sin limpiar: 34.74851668159744.\n",
      "Varianza de los datos del SeaWiFS sin limpiar: 112.76239012577737.\n",
      "Varianza de los datos del MODIS sin limpiar: 32.70386904516375.\n",
      "Promedio de los datos del SeaWiFS limpios: 36.75137027905479.\n",
      "Promedio de los datos del MODIS limpios: 33.503566511050096.\n",
      "Varianza de los datos del SeaWiFS limpios: 91.64475237720586.\n",
      "Varianza de los datos del MODIS limpios: 9.438222021994653.\n",
      "Media aritmética de las distancias entre pixeles: 5.112440829366454\n",
      "Varianza de las distancias entre pixeles: 114.40987279290762.\n"
     ]
    }
   ],
   "source": [
    "# Para el sensor SeaWiFS.\n",
    "\n",
    "with open('./MAYO_2003/SeaWiFS/Composicion (Lt_555).txt') as archivo_seawifs:\n",
    "    for _ in range(5):\n",
    "        # Ignoramos los primeros 5 renglones del archivo.\n",
    "        archivo_seawifs.readline()\n",
    "    # Separamos los datos en una matriz.\n",
    "    datos_seawifs = np.array([archivo_seawifs.readline().split()\n",
    "                              for _ in range(127)])\n",
    "\n",
    "# Convertimos a reales.\n",
    "datos_seawifs = np.array([[float(dat) for dat in row] for row in datos_seawifs])\n",
    "\n",
    "# Para el sensor MODIS. Es lo mismo pero con otro archivo.\n",
    "\n",
    "with open('./MAYO_2003/MODIS/Composicion (B12).txt') as archivo_modis:\n",
    "    for _ in range(5):\n",
    "        # Ignoramos los primeros 5 renglones del archivo.\n",
    "        archivo_modis.readline()\n",
    "    # Separamos los datos en una matriz.\n",
    "    datos_modis = np.array([archivo_modis.readline().split()\n",
    "                              for _ in range(127)])\n",
    "\n",
    "# Convertimos a reales.\n",
    "datos_modis = np.array([[float(dat) for dat in row] for row in datos_modis])\n",
    "\n",
    "##-----------------------------------------------\n",
    "\n",
    "media_seawifs = np.mean(datos_seawifs)\n",
    "media_modis = np.mean(datos_modis)\n",
    "\n",
    "var_seawifs = np.var(datos_seawifs)\n",
    "var_modis = np.var(datos_modis)\n",
    "\n",
    "print(\"Promedio de los datos del SeaWiFS sin limpiar: {}.\".format(media_seawifs))\n",
    "print(\"Promedio de los datos del MODIS sin limpiar: {}.\".format(media_modis))\n",
    "\n",
    "print(\"Varianza de los datos del SeaWiFS sin limpiar: {}.\".format(var_seawifs))\n",
    "print(\"Varianza de los datos del MODIS sin limpiar: {}.\".format(var_modis))\n",
    "\n",
    "##-----------------------------------------------\n",
    "\n",
    "filter(datos_seawifs, 127, 167, 3)\n",
    "filter(datos_modis, 127, 167, 3)\n",
    "\n",
    "##-----------------------------------------------\n",
    "\n",
    "media_seawifs = np.mean(datos_seawifs)\n",
    "media_modis = np.mean(datos_modis)\n",
    "\n",
    "var_seawifs = np.var(datos_seawifs)\n",
    "var_modis = np.var(datos_modis)\n",
    "\n",
    "print(\"Promedio de los datos del SeaWiFS limpios: {}.\".format(media_seawifs))\n",
    "print(\"Promedio de los datos del MODIS limpios: {}.\".format(media_modis))\n",
    "\n",
    "print(\"Varianza de los datos del SeaWiFS limpios: {}.\".format(var_seawifs))\n",
    "print(\"Varianza de los datos del MODIS limpios: {}.\".format(var_modis))\n",
    "\n",
    "##-----------------------------------------------\n",
    "\n",
    "datos_comb = abs(datos_seawifs - datos_modis)\n",
    "ma_comb = np.mean(datos_comb)\n",
    "var_comb = np.var(datos_comb)\n",
    "\n",
    "print(\"Media aritmética de las distancias entre pixeles: {}\".format(ma_comb))\n",
    "print(\"Varianza de las distancias entre pixeles: {}.\".format(var_comb))"
   ]
  },
  {
   "cell_type": "markdown",
   "metadata": {},
   "source": [
    "## Junio"
   ]
  },
  {
   "cell_type": "code",
   "execution_count": 16,
   "metadata": {},
   "outputs": [
    {
     "name": "stdout",
     "output_type": "stream",
     "text": [
      "Promedio de los datos del SeaWiFS sin limpiar: 34.450352812485264.\n",
      "Promedio de los datos del MODIS sin limpiar: 39.048506591541326.\n",
      "Varianza de los datos del SeaWiFS sin limpiar: 108.33587852987857.\n",
      "Varianza de los datos del MODIS sin limpiar: 28.407675274575812.\n",
      "Promedio de los datos del SeaWiFS limpios: 35.781200065877485.\n",
      "Promedio de los datos del MODIS limpios: 38.116373113472235.\n",
      "Varianza de los datos del SeaWiFS limpios: 90.98840273668016.\n",
      "Varianza de los datos del MODIS limpios: 13.427728540240912.\n",
      "Media aritmética de las distancias entre pixeles: 8.019767374774563\n",
      "Varianza de las distancias entre pixeles: 70.01109146842452.\n"
     ]
    }
   ],
   "source": [
    "# Para el sensor SeaWiFS.\n",
    "\n",
    "with open('./JUNIO_2003/SeaWiFS/Composicion (Lt_555).txt') as archivo_seawifs:\n",
    "    for _ in range(5):\n",
    "        # Ignoramos los primeros 5 renglones del archivo.\n",
    "        archivo_seawifs.readline()\n",
    "    # Separamos los datos en una matriz.\n",
    "    datos_seawifs = np.array([archivo_seawifs.readline().split()\n",
    "                              for _ in range(127)])\n",
    "\n",
    "# Convertimos a reales.\n",
    "datos_seawifs = np.array([[float(dat) for dat in row] for row in datos_seawifs])\n",
    "\n",
    "# Para el sensor MODIS. Es lo mismo pero con otro archivo.\n",
    "\n",
    "with open('./JUNIO_2003/MODIS/Composicion (B12).txt') as archivo_modis:\n",
    "    for _ in range(5):\n",
    "        # Ignoramos los primeros 5 renglones del archivo.\n",
    "        archivo_modis.readline()\n",
    "    # Separamos los datos en una matriz.\n",
    "    datos_modis = np.array([archivo_modis.readline().split()\n",
    "                              for _ in range(127)])\n",
    "\n",
    "# Convertimos a reales.\n",
    "datos_modis = np.array([[float(dat) for dat in row] for row in datos_modis])\n",
    "\n",
    "##-----------------------------------------------\n",
    "\n",
    "media_seawifs = np.mean(datos_seawifs)\n",
    "media_modis = np.mean(datos_modis)\n",
    "\n",
    "var_seawifs = np.var(datos_seawifs)\n",
    "var_modis = np.var(datos_modis)\n",
    "\n",
    "print(\"Promedio de los datos del SeaWiFS sin limpiar: {}.\".format(media_seawifs))\n",
    "print(\"Promedio de los datos del MODIS sin limpiar: {}.\".format(media_modis))\n",
    "\n",
    "print(\"Varianza de los datos del SeaWiFS sin limpiar: {}.\".format(var_seawifs))\n",
    "print(\"Varianza de los datos del MODIS sin limpiar: {}.\".format(var_modis))\n",
    "\n",
    "##-----------------------------------------------\n",
    "\n",
    "filter(datos_seawifs, 127, 167, 3)\n",
    "filter(datos_modis, 127, 167, 3)\n",
    "\n",
    "##-----------------------------------------------\n",
    "\n",
    "media_seawifs = np.mean(datos_seawifs)\n",
    "media_modis = np.mean(datos_modis)\n",
    "\n",
    "var_seawifs = np.var(datos_seawifs)\n",
    "var_modis = np.var(datos_modis)\n",
    "\n",
    "print(\"Promedio de los datos del SeaWiFS limpios: {}.\".format(media_seawifs))\n",
    "print(\"Promedio de los datos del MODIS limpios: {}.\".format(media_modis))\n",
    "\n",
    "print(\"Varianza de los datos del SeaWiFS limpios: {}.\".format(var_seawifs))\n",
    "print(\"Varianza de los datos del MODIS limpios: {}.\".format(var_modis))\n",
    "\n",
    "##-----------------------------------------------\n",
    "\n",
    "datos_comb = abs(datos_seawifs - datos_modis)\n",
    "ma_comb = np.mean(datos_comb)\n",
    "var_comb = np.var(datos_comb)\n",
    "\n",
    "print(\"Media aritmética de las distancias entre pixeles: {}\".format(ma_comb))\n",
    "print(\"Varianza de las distancias entre pixeles: {}.\".format(var_comb))"
   ]
  }
 ],
 "metadata": {
  "kernelspec": {
   "display_name": "Python 3",
   "language": "python",
   "name": "python3"
  },
  "language_info": {
   "codemirror_mode": {
    "name": "ipython",
    "version": 3
   },
   "file_extension": ".py",
   "mimetype": "text/x-python",
   "name": "python",
   "nbconvert_exporter": "python",
   "pygments_lexer": "ipython3",
   "version": "3.6.6"
  }
 },
 "nbformat": 4,
 "nbformat_minor": 2
}
