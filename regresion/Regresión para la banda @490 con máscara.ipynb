{
 "cells": [
  {
   "cell_type": "markdown",
   "metadata": {},
   "source": [
    "# Análisis estadístico para la banda @490 utilizando una máscara\n",
    "\n",
    "Primero importaremos las librerías necesarias."
   ]
  },
  {
   "cell_type": "code",
   "execution_count": 1,
   "metadata": {},
   "outputs": [],
   "source": [
    "import numpy as np\n",
    "import pandas"
   ]
  },
  {
   "cell_type": "markdown",
   "metadata": {},
   "source": [
    "Leemos los datos para enero."
   ]
  },
  {
   "cell_type": "code",
   "execution_count": 2,
   "metadata": {},
   "outputs": [],
   "source": [
    "# Para el sensor SeaWiFS.\n",
    "\n",
    "with open('./ENERO_2003/SeaWiFS/Composicion (Lt_490).txt') as archivo_seawifs:\n",
    "    for _ in range(5):\n",
    "        # Ignoramos los primeros 5 renglones del archivo.\n",
    "        archivo_seawifs.readline()\n",
    "    # Separamos los datos en una matriz.\n",
    "    datos_seawifs = np.array([archivo_seawifs.readline().split()\n",
    "                              for _ in range(127)])\n",
    "\n",
    "# Convertimos a reales.\n",
    "datos_seawifs = np.array([[float(dat) for dat in row] for row in datos_seawifs])"
   ]
  },
  {
   "cell_type": "code",
   "execution_count": 3,
   "metadata": {},
   "outputs": [],
   "source": [
    "# Para el sensor MODIS. Es lo mismo pero con otro archivo.\n",
    "\n",
    "with open('./ENERO_2003/MODIS/Composicion (Band 10).txt') as archivo_modis:\n",
    "    for _ in range(5):\n",
    "        # Ignoramos los primeros 5 renglones del archivo.\n",
    "        archivo_modis.readline()\n",
    "    # Separamos los datos en una matriz.\n",
    "    datos_modis = np.array([archivo_modis.readline().split()\n",
    "                              for _ in range(127)])\n",
    "\n",
    "# Convertimos a reales.\n",
    "datos_modis = np.array([[float(dat) for dat in row] for row in datos_modis])"
   ]
  },
  {
   "cell_type": "markdown",
   "metadata": {},
   "source": [
    "Revisamos datos estadísticos de los datos sucios."
   ]
  },
  {
   "cell_type": "code",
   "execution_count": 4,
   "metadata": {},
   "outputs": [
    {
     "name": "stdout",
     "output_type": "stream",
     "text": [
      "Promedio de los datos del SeaWiFS: 44.80587750011788.\n",
      "Promedio de los datos del MODIS: 42.81177717478429.\n",
      "Varianza de los datos del SeaWiFS: 34.116755167250844.\n",
      "Varianza de los datos del MODIS: 15.516441651737484.\n"
     ]
    }
   ],
   "source": [
    "media_seawifs = np.mean(datos_seawifs)\n",
    "media_modis = np.mean(datos_modis)\n",
    "\n",
    "var_seawifs = np.var(datos_seawifs)\n",
    "var_modis = np.var(datos_modis)\n",
    "\n",
    "print(\"Promedio de los datos del SeaWiFS: {}.\".format(media_seawifs))\n",
    "print(\"Promedio de los datos del MODIS: {}.\".format(media_modis))\n",
    "\n",
    "print(\"Varianza de los datos del SeaWiFS: {}.\".format(var_seawifs))\n",
    "print(\"Varianza de los datos del MODIS: {}.\".format(var_modis))"
   ]
  },
  {
   "cell_type": "markdown",
   "metadata": {},
   "source": [
    "### Función de la máscara"
   ]
  },
  {
   "cell_type": "code",
   "execution_count": 5,
   "metadata": {},
   "outputs": [],
   "source": [
    "def filter(img, row, column, tol):\n",
    "    mean_img = np.mean(img)\n",
    "    \n",
    "    for i in range(row):\n",
    "        row_sum = 0.0\n",
    "        row_mean = 0.0\n",
    "        \n",
    "        for j in range(column):\n",
    "            row_sum += img[i][j]\n",
    "            row_mean = row_sum / (j + 1)\n",
    "            \n",
    "            if np.abs(img[i][j] - mean_img) >= tol:\n",
    "                #img[i][j] = row_mean\n",
    "                img[i][j] = mean_img"
   ]
  },
  {
   "cell_type": "code",
   "execution_count": 5,
   "metadata": {},
   "outputs": [],
   "source": [
    "def get_neighbors(img, i, j, row, column):\n",
    "    neigh = []\n",
    "    \n",
    "    for k in range(i-1, i+2):\n",
    "        for l in range(j-1, j+2):\n",
    "            if k == i and l == j:\n",
    "                continue\n",
    "            elif k < 0 or l < 0 or k >= row or l >= column:\n",
    "                #neigh.append(0)\n",
    "                continue\n",
    "            else:\n",
    "                neigh.append(img[k][l])\n",
    "    \n",
    "    return neigh"
   ]
  },
  {
   "cell_type": "code",
   "execution_count": 6,
   "metadata": {},
   "outputs": [],
   "source": [
    "def filter(img, row, column, tol):\n",
    "    mean_img = np.mean(img)\n",
    "    \n",
    "    for i in range(row):\n",
    "        for j in range(column):\n",
    "            if np.abs(img[i][j] - mean_img) >= tol:\n",
    "                img[i][j] = np.mean(get_neighbors(img, i, j, row, column))"
   ]
  },
  {
   "cell_type": "markdown",
   "metadata": {},
   "source": [
    "Ahora limpiamos las composiciones."
   ]
  },
  {
   "cell_type": "code",
   "execution_count": 6,
   "metadata": {},
   "outputs": [
    {
     "data": {
      "text/plain": [
       "array([[43.2616   , 43.211    , 43.211    , ..., 44.8058775, 44.8058775,\n",
       "        44.8058775],\n",
       "       [43.3355   , 43.2849   , 43.2815   , ..., 44.8058775, 44.8058775,\n",
       "        44.8058775],\n",
       "       [46.1365   , 45.978    , 45.9745   , ..., 44.8058775, 44.8058775,\n",
       "        44.8058775],\n",
       "       ...,\n",
       "       [44.8058775, 44.8058775, 44.8058775, ..., 43.7049   , 43.7119   ,\n",
       "        43.6942   ],\n",
       "       [44.8058775, 44.8058775, 44.8058775, ..., 43.6696   , 43.6732   ,\n",
       "        43.6555   ],\n",
       "       [44.8058775, 44.8058775, 44.8058775, ..., 43.6696   , 43.6732   ,\n",
       "        43.6555   ]])"
      ]
     },
     "execution_count": 6,
     "metadata": {},
     "output_type": "execute_result"
    }
   ],
   "source": [
    "filter(datos_seawifs, 127, 167, 3)\n",
    "datos_seawifs"
   ]
  },
  {
   "cell_type": "code",
   "execution_count": 7,
   "metadata": {},
   "outputs": [
    {
     "data": {
      "text/plain": [
       "array([[41.1685    , 41.1685    , 41.1422    , ..., 42.81177717,\n",
       "        42.81177717, 42.81177717],\n",
       "       [41.1632    , 41.1632    , 41.1404    , ..., 42.81177717,\n",
       "        42.81177717, 42.81177717],\n",
       "       [41.1659    , 41.1659    , 41.1199    , ..., 42.81177717,\n",
       "        42.81177717, 42.81177717],\n",
       "       ...,\n",
       "       [42.81177717, 42.81177717, 42.81177717, ..., 42.5495    ,\n",
       "        42.5752    , 42.5772    ],\n",
       "       [42.81177717, 42.81177717, 42.81177717, ..., 42.5521    ,\n",
       "        42.5816    , 42.5484    ],\n",
       "       [42.81177717, 42.81177717, 42.81177717, ..., 42.5366    ,\n",
       "        42.5614    , 42.5545    ]])"
      ]
     },
     "execution_count": 7,
     "metadata": {},
     "output_type": "execute_result"
    }
   ],
   "source": [
    "filter(datos_modis, 127, 167, 3)\n",
    "datos_modis"
   ]
  },
  {
   "cell_type": "code",
   "execution_count": 8,
   "metadata": {},
   "outputs": [
    {
     "name": "stdout",
     "output_type": "stream",
     "text": [
      "Promedio de los datos del SeaWiFS: 43.384122612815545.\n",
      "Promedio de los datos del MODIS: 41.846795899371735.\n",
      "Varianza de los datos del SeaWiFS: 0.6063902883176688.\n",
      "Varianza de los datos del MODIS: 0.4511020233714358.\n"
     ]
    }
   ],
   "source": [
    "media_seawifs = np.mean(datos_seawifs)\n",
    "media_modis = np.mean(datos_modis)\n",
    "\n",
    "var_seawifs = np.var(datos_seawifs)\n",
    "var_modis = np.var(datos_modis)\n",
    "\n",
    "print(\"Promedio de los datos del SeaWiFS: {}.\".format(media_seawifs))\n",
    "print(\"Promedio de los datos del MODIS: {}.\".format(media_modis))\n",
    "\n",
    "print(\"Varianza de los datos del SeaWiFS: {}.\".format(var_seawifs))\n",
    "print(\"Varianza de los datos del MODIS: {}.\".format(var_modis))"
   ]
  },
  {
   "cell_type": "code",
   "execution_count": 9,
   "metadata": {},
   "outputs": [
    {
     "name": "stdout",
     "output_type": "stream",
     "text": [
      "Media aritmética de las distancias entre pixeles: 1.5407423174324502\n",
      "Varianza de las distancias entre pixeles: 0.288495615701545.\n"
     ]
    }
   ],
   "source": [
    "datos_comb = abs(datos_seawifs - datos_modis)\n",
    "ma_comb = np.mean(datos_comb)\n",
    "var_comb = np.var(datos_comb)\n",
    "\n",
    "print(\"Media aritmética de las distancias entre pixeles: {}\".format(ma_comb))\n",
    "print(\"Varianza de las distancias entre pixeles: {}.\".format(var_comb))"
   ]
  },
  {
   "cell_type": "markdown",
   "metadata": {},
   "source": [
    "## Febrero"
   ]
  },
  {
   "cell_type": "code",
   "execution_count": 10,
   "metadata": {},
   "outputs": [
    {
     "name": "stdout",
     "output_type": "stream",
     "text": [
      "Promedio de los datos del SeaWiFS sin limpiar: 50.37943367909849.\n",
      "Promedio de los datos del MODIS sin limpiar: 43.087711377245505.\n",
      "Varianza de los datos del SeaWiFS sin limpiar: 107.25804162019581.\n",
      "Varianza de los datos del MODIS sin limpiar: 20.39668228312531.\n",
      "Promedio de los datos del SeaWiFS limpios: 50.1973334481781.\n",
      "Promedio de los datos del MODIS limpios: 41.929372223519394.\n",
      "Varianza de los datos del SeaWiFS limpios: 0.6207501230113712.\n",
      "Varianza de los datos del MODIS limpios: 0.6627445715691115.\n",
      "Media aritmética de las distancias entre pixeles: 8.267961224658707\n",
      "Varianza de las distancias entre pixeles: 1.337468400437053.\n"
     ]
    }
   ],
   "source": [
    "# Para el sensor SeaWiFS.\n",
    "\n",
    "with open('./FEBRERO_2003/SeaWiFS/3_Bandas/Composicion (Lt_490).txt') as archivo_seawifs:\n",
    "    for _ in range(5):\n",
    "        # Ignoramos los primeros 5 renglones del archivo.\n",
    "        archivo_seawifs.readline()\n",
    "    # Separamos los datos en una matriz.\n",
    "    datos_seawifs = np.array([archivo_seawifs.readline().split()\n",
    "                              for _ in range(127)])\n",
    "\n",
    "# Convertimos a reales.\n",
    "datos_seawifs = np.array([[float(dat) for dat in row] for row in datos_seawifs])\n",
    "\n",
    "# Para el sensor MODIS. Es lo mismo pero con otro archivo.\n",
    "\n",
    "with open('./FEBRERO_2003/MODIS/3_Bandas/Composicion (B10).txt') as archivo_modis:\n",
    "    for _ in range(5):\n",
    "        # Ignoramos los primeros 5 renglones del archivo.\n",
    "        archivo_modis.readline()\n",
    "    # Separamos los datos en una matriz.\n",
    "    datos_modis = np.array([archivo_modis.readline().split()\n",
    "                              for _ in range(127)])\n",
    "\n",
    "# Convertimos a reales.\n",
    "datos_modis = np.array([[float(dat) for dat in row] for row in datos_modis])\n",
    "\n",
    "##-----------------------------------------------\n",
    "\n",
    "media_seawifs = np.mean(datos_seawifs)\n",
    "media_modis = np.mean(datos_modis)\n",
    "\n",
    "var_seawifs = np.var(datos_seawifs)\n",
    "var_modis = np.var(datos_modis)\n",
    "\n",
    "print(\"Promedio de los datos del SeaWiFS sin limpiar: {}.\".format(media_seawifs))\n",
    "print(\"Promedio de los datos del MODIS sin limpiar: {}.\".format(media_modis))\n",
    "\n",
    "print(\"Varianza de los datos del SeaWiFS sin limpiar: {}.\".format(var_seawifs))\n",
    "print(\"Varianza de los datos del MODIS sin limpiar: {}.\".format(var_modis))\n",
    "\n",
    "##-----------------------------------------------\n",
    "\n",
    "filter(datos_seawifs, 127, 167, 3)\n",
    "filter(datos_modis, 127, 167, 3)\n",
    "\n",
    "##-----------------------------------------------\n",
    "\n",
    "media_seawifs = np.mean(datos_seawifs)\n",
    "media_modis = np.mean(datos_modis)\n",
    "\n",
    "var_seawifs = np.var(datos_seawifs)\n",
    "var_modis = np.var(datos_modis)\n",
    "\n",
    "print(\"Promedio de los datos del SeaWiFS limpios: {}.\".format(media_seawifs))\n",
    "print(\"Promedio de los datos del MODIS limpios: {}.\".format(media_modis))\n",
    "\n",
    "print(\"Varianza de los datos del SeaWiFS limpios: {}.\".format(var_seawifs))\n",
    "print(\"Varianza de los datos del MODIS limpios: {}.\".format(var_modis))\n",
    "\n",
    "##-----------------------------------------------\n",
    "\n",
    "datos_comb = abs(datos_seawifs - datos_modis)\n",
    "ma_comb = np.mean(datos_comb)\n",
    "var_comb = np.var(datos_comb)\n",
    "\n",
    "print(\"Media aritmética de las distancias entre pixeles: {}\".format(ma_comb))\n",
    "print(\"Varianza de las distancias entre pixeles: {}.\".format(var_comb))"
   ]
  },
  {
   "cell_type": "markdown",
   "metadata": {},
   "source": [
    "## Marzo"
   ]
  },
  {
   "cell_type": "code",
   "execution_count": 11,
   "metadata": {},
   "outputs": [
    {
     "name": "stdout",
     "output_type": "stream",
     "text": [
      "Promedio de los datos del SeaWiFS sin limpiar: 53.67939175821586.\n",
      "Promedio de los datos del MODIS sin limpiar: 52.79657578858032.\n",
      "Varianza de los datos del SeaWiFS sin limpiar: 103.00748182330138.\n",
      "Varianza de los datos del MODIS sin limpiar: 22.182261898164807.\n",
      "Promedio de los datos del SeaWiFS limpios: 53.541051998247056.\n",
      "Promedio de los datos del MODIS limpios: 51.784627739957244.\n",
      "Varianza de los datos del SeaWiFS limpios: 0.49609382728836876.\n",
      "Varianza de los datos del MODIS limpios: 0.5004560786188818.\n",
      "Media aritmética de las distancias entre pixeles: 1.8826501593877198\n",
      "Varianza de las distancias entre pixeles: 0.490253116738869.\n"
     ]
    }
   ],
   "source": [
    "# Para el sensor SeaWiFS.\n",
    "\n",
    "with open('./MARZO_2003/SeaWiFS/Composicion (Lt_490).txt') as archivo_seawifs:\n",
    "    for _ in range(5):\n",
    "        # Ignoramos los primeros 5 renglones del archivo.\n",
    "        archivo_seawifs.readline()\n",
    "    # Separamos los datos en una matriz.\n",
    "    datos_seawifs = np.array([archivo_seawifs.readline().split()\n",
    "                              for _ in range(127)])\n",
    "\n",
    "# Convertimos a reales.\n",
    "datos_seawifs = np.array([[float(dat) for dat in row] for row in datos_seawifs])\n",
    "\n",
    "# Para el sensor MODIS. Es lo mismo pero con otro archivo.\n",
    "\n",
    "with open('./MARZO_2003/MODIS/Composicion (B10).txt') as archivo_modis:\n",
    "    for _ in range(5):\n",
    "        # Ignoramos los primeros 5 renglones del archivo.\n",
    "        archivo_modis.readline()\n",
    "    # Separamos los datos en una matriz.\n",
    "    datos_modis = np.array([archivo_modis.readline().split()\n",
    "                              for _ in range(127)])\n",
    "\n",
    "# Convertimos a reales.\n",
    "datos_modis = np.array([[float(dat) for dat in row] for row in datos_modis])\n",
    "\n",
    "##-----------------------------------------------\n",
    "\n",
    "media_seawifs = np.mean(datos_seawifs)\n",
    "media_modis = np.mean(datos_modis)\n",
    "\n",
    "var_seawifs = np.var(datos_seawifs)\n",
    "var_modis = np.var(datos_modis)\n",
    "\n",
    "print(\"Promedio de los datos del SeaWiFS sin limpiar: {}.\".format(media_seawifs))\n",
    "print(\"Promedio de los datos del MODIS sin limpiar: {}.\".format(media_modis))\n",
    "\n",
    "print(\"Varianza de los datos del SeaWiFS sin limpiar: {}.\".format(var_seawifs))\n",
    "print(\"Varianza de los datos del MODIS sin limpiar: {}.\".format(var_modis))\n",
    "\n",
    "##-----------------------------------------------\n",
    "\n",
    "filter(datos_seawifs, 127, 167, 3)\n",
    "filter(datos_modis, 127, 167, 3)\n",
    "\n",
    "##-----------------------------------------------\n",
    "\n",
    "media_seawifs = np.mean(datos_seawifs)\n",
    "media_modis = np.mean(datos_modis)\n",
    "\n",
    "var_seawifs = np.var(datos_seawifs)\n",
    "var_modis = np.var(datos_modis)\n",
    "\n",
    "print(\"Promedio de los datos del SeaWiFS limpios: {}.\".format(media_seawifs))\n",
    "print(\"Promedio de los datos del MODIS limpios: {}.\".format(media_modis))\n",
    "\n",
    "print(\"Varianza de los datos del SeaWiFS limpios: {}.\".format(var_seawifs))\n",
    "print(\"Varianza de los datos del MODIS limpios: {}.\".format(var_modis))\n",
    "\n",
    "##-----------------------------------------------\n",
    "\n",
    "datos_comb = abs(datos_seawifs - datos_modis)\n",
    "ma_comb = np.mean(datos_comb)\n",
    "var_comb = np.var(datos_comb)\n",
    "\n",
    "print(\"Media aritmética de las distancias entre pixeles: {}\".format(ma_comb))\n",
    "print(\"Varianza de las distancias entre pixeles: {}.\".format(var_comb))"
   ]
  },
  {
   "cell_type": "markdown",
   "metadata": {},
   "source": [
    "## Abril"
   ]
  },
  {
   "cell_type": "code",
   "execution_count": 12,
   "metadata": {},
   "outputs": [
    {
     "name": "stdout",
     "output_type": "stream",
     "text": [
      "Promedio de los datos del SeaWiFS sin limpiar: 54.72241087745769.\n",
      "Promedio de los datos del MODIS sin limpiar: 60.11794838983451.\n",
      "Varianza de los datos del SeaWiFS sin limpiar: 60.94909096467634.\n",
      "Varianza de los datos del MODIS sin limpiar: 40.49489379521465.\n",
      "Promedio de los datos del SeaWiFS limpios: 53.0054125497588.\n",
      "Promedio de los datos del MODIS limpios: 58.65376410194865.\n",
      "Varianza de los datos del SeaWiFS limpios: 0.9352028398023592.\n",
      "Varianza de los datos del MODIS limpios: 0.7747125567347789.\n",
      "Media aritmética de las distancias entre pixeles: 5.648351552189855\n",
      "Varianza de las distancias entre pixeles: 0.5554852746263171.\n"
     ]
    }
   ],
   "source": [
    "# Para el sensor SeaWiFS.\n",
    "\n",
    "with open('./ABRIL_2003_CORREGIDOS/SeaWiFS/Composicion (B490).txt') as archivo_seawifs:\n",
    "    for _ in range(5):\n",
    "        # Ignoramos los primeros 5 renglones del archivo.\n",
    "        archivo_seawifs.readline()\n",
    "    # Separamos los datos en una matriz.\n",
    "    datos_seawifs = np.array([archivo_seawifs.readline().split()\n",
    "                              for _ in range(127)])\n",
    "\n",
    "# Convertimos a reales.\n",
    "datos_seawifs = np.array([[float(dat) for dat in row] for row in datos_seawifs])\n",
    "\n",
    "# Para el sensor MODIS. Es lo mismo pero con otro archivo.\n",
    "\n",
    "with open('./ABRIL_2003_CORREGIDOS/MODIS/Composicion (B10).txt') as archivo_modis:\n",
    "    for _ in range(5):\n",
    "        # Ignoramos los primeros 5 renglones del archivo.\n",
    "        archivo_modis.readline()\n",
    "    # Separamos los datos en una matriz.\n",
    "    datos_modis = np.array([archivo_modis.readline().split()\n",
    "                              for _ in range(127)])\n",
    "\n",
    "# Convertimos a reales.\n",
    "datos_modis = np.array([[float(dat) for dat in row] for row in datos_modis])\n",
    "\n",
    "##-----------------------------------------------\n",
    "\n",
    "media_seawifs = np.mean(datos_seawifs)\n",
    "media_modis = np.mean(datos_modis)\n",
    "\n",
    "var_seawifs = np.var(datos_seawifs)\n",
    "var_modis = np.var(datos_modis)\n",
    "\n",
    "print(\"Promedio de los datos del SeaWiFS sin limpiar: {}.\".format(media_seawifs))\n",
    "print(\"Promedio de los datos del MODIS sin limpiar: {}.\".format(media_modis))\n",
    "\n",
    "print(\"Varianza de los datos del SeaWiFS sin limpiar: {}.\".format(var_seawifs))\n",
    "print(\"Varianza de los datos del MODIS sin limpiar: {}.\".format(var_modis))\n",
    "\n",
    "##-----------------------------------------------\n",
    "\n",
    "filter(datos_seawifs, 127, 167, 3)\n",
    "filter(datos_modis, 127, 167, 3)\n",
    "\n",
    "##-----------------------------------------------\n",
    "\n",
    "media_seawifs = np.mean(datos_seawifs)\n",
    "media_modis = np.mean(datos_modis)\n",
    "\n",
    "var_seawifs = np.var(datos_seawifs)\n",
    "var_modis = np.var(datos_modis)\n",
    "\n",
    "print(\"Promedio de los datos del SeaWiFS limpios: {}.\".format(media_seawifs))\n",
    "print(\"Promedio de los datos del MODIS limpios: {}.\".format(media_modis))\n",
    "\n",
    "print(\"Varianza de los datos del SeaWiFS limpios: {}.\".format(var_seawifs))\n",
    "print(\"Varianza de los datos del MODIS limpios: {}.\".format(var_modis))\n",
    "\n",
    "##-----------------------------------------------\n",
    "\n",
    "datos_comb = abs(datos_seawifs - datos_modis)\n",
    "ma_comb = np.mean(datos_comb)\n",
    "var_comb = np.var(datos_comb)\n",
    "\n",
    "print(\"Media aritmética de las distancias entre pixeles: {}\".format(ma_comb))\n",
    "print(\"Varianza de las distancias entre pixeles: {}.\".format(var_comb))"
   ]
  },
  {
   "cell_type": "markdown",
   "metadata": {},
   "source": [
    "## Mayo"
   ]
  },
  {
   "cell_type": "code",
   "execution_count": 13,
   "metadata": {},
   "outputs": [
    {
     "name": "stdout",
     "output_type": "stream",
     "text": [
      "Promedio de los datos del SeaWiFS sin limpiar: 56.658503922862934.\n",
      "Promedio de los datos del MODIS sin limpiar: 70.36671088217265.\n",
      "Varianza de los datos del SeaWiFS sin limpiar: 59.011802082315704.\n",
      "Varianza de los datos del MODIS sin limpiar: 15.154067451401215.\n",
      "Promedio de los datos del SeaWiFS limpios: 54.88979369714663.\n",
      "Promedio de los datos del MODIS limpios: 69.47821361892314.\n",
      "Varianza de los datos del SeaWiFS limpios: 0.9300941840726578.\n",
      "Varianza de los datos del MODIS limpios: 1.3737651675935334.\n",
      "Media aritmética de las distancias entre pixeles: 14.588419921776515\n",
      "Varianza de las distancias entre pixeles: 1.7085808849753719.\n"
     ]
    }
   ],
   "source": [
    "# Para el sensor SeaWiFS.\n",
    "\n",
    "with open('./MAYO_2003/SeaWiFS/Composicion (Lt_490).txt') as archivo_seawifs:\n",
    "    for _ in range(5):\n",
    "        # Ignoramos los primeros 5 renglones del archivo.\n",
    "        archivo_seawifs.readline()\n",
    "    # Separamos los datos en una matriz.\n",
    "    datos_seawifs = np.array([archivo_seawifs.readline().split()\n",
    "                              for _ in range(127)])\n",
    "\n",
    "# Convertimos a reales.\n",
    "datos_seawifs = np.array([[float(dat) for dat in row] for row in datos_seawifs])\n",
    "\n",
    "# Para el sensor MODIS. Es lo mismo pero con otro archivo.\n",
    "\n",
    "with open('./MAYO_2003/MODIS/Composicion (B10).txt') as archivo_modis:\n",
    "    for _ in range(5):\n",
    "        # Ignoramos los primeros 5 renglones del archivo.\n",
    "        archivo_modis.readline()\n",
    "    # Separamos los datos en una matriz.\n",
    "    datos_modis = np.array([archivo_modis.readline().split()\n",
    "                              for _ in range(127)])\n",
    "\n",
    "# Convertimos a reales.\n",
    "datos_modis = np.array([[float(dat) for dat in row] for row in datos_modis])\n",
    "\n",
    "##-----------------------------------------------\n",
    "\n",
    "media_seawifs = np.mean(datos_seawifs)\n",
    "media_modis = np.mean(datos_modis)\n",
    "\n",
    "var_seawifs = np.var(datos_seawifs)\n",
    "var_modis = np.var(datos_modis)\n",
    "\n",
    "print(\"Promedio de los datos del SeaWiFS sin limpiar: {}.\".format(media_seawifs))\n",
    "print(\"Promedio de los datos del MODIS sin limpiar: {}.\".format(media_modis))\n",
    "\n",
    "print(\"Varianza de los datos del SeaWiFS sin limpiar: {}.\".format(var_seawifs))\n",
    "print(\"Varianza de los datos del MODIS sin limpiar: {}.\".format(var_modis))\n",
    "\n",
    "##-----------------------------------------------\n",
    "\n",
    "filter(datos_seawifs, 127, 167, 3)\n",
    "filter(datos_modis, 127, 167, 3)\n",
    "\n",
    "##-----------------------------------------------\n",
    "\n",
    "media_seawifs = np.mean(datos_seawifs)\n",
    "media_modis = np.mean(datos_modis)\n",
    "\n",
    "var_seawifs = np.var(datos_seawifs)\n",
    "var_modis = np.var(datos_modis)\n",
    "\n",
    "print(\"Promedio de los datos del SeaWiFS limpios: {}.\".format(media_seawifs))\n",
    "print(\"Promedio de los datos del MODIS limpios: {}.\".format(media_modis))\n",
    "\n",
    "print(\"Varianza de los datos del SeaWiFS limpios: {}.\".format(var_seawifs))\n",
    "print(\"Varianza de los datos del MODIS limpios: {}.\".format(var_modis))\n",
    "\n",
    "##-----------------------------------------------\n",
    "\n",
    "datos_comb = abs(datos_seawifs - datos_modis)\n",
    "ma_comb = np.mean(datos_comb)\n",
    "var_comb = np.var(datos_comb)\n",
    "\n",
    "print(\"Media aritmética de las distancias entre pixeles: {}\".format(ma_comb))\n",
    "print(\"Varianza de las distancias entre pixeles: {}.\".format(var_comb))"
   ]
  },
  {
   "cell_type": "markdown",
   "metadata": {},
   "source": [
    "## Junio"
   ]
  },
  {
   "cell_type": "code",
   "execution_count": 14,
   "metadata": {},
   "outputs": [
    {
     "name": "stdout",
     "output_type": "stream",
     "text": [
      "Promedio de los datos del SeaWiFS sin limpiar: 56.22971067471356.\n",
      "Promedio de los datos del MODIS sin limpiar: 63.00103334433496.\n",
      "Varianza de los datos del SeaWiFS sin limpiar: 54.710943638967585.\n",
      "Varianza de los datos del MODIS sin limpiar: 29.559309876998388.\n",
      "Promedio de los datos del SeaWiFS limpios: 55.224210473960454.\n",
      "Promedio de los datos del MODIS limpios: 62.77184685285412.\n",
      "Varianza de los datos del SeaWiFS limpios: 1.4417400180700153.\n",
      "Varianza de los datos del MODIS limpios: 1.626686294292506.\n",
      "Media aritmética de las distancias entre pixeles: 7.547636378893666\n",
      "Varianza de las distancias entre pixeles: 3.001205534837544.\n"
     ]
    }
   ],
   "source": [
    "# Para el sensor SeaWiFS.\n",
    "\n",
    "with open('./JUNIO_2003/SeaWiFS/Composicion (Lt_490).txt') as archivo_seawifs:\n",
    "    for _ in range(5):\n",
    "        # Ignoramos los primeros 5 renglones del archivo.\n",
    "        archivo_seawifs.readline()\n",
    "    # Separamos los datos en una matriz.\n",
    "    datos_seawifs = np.array([archivo_seawifs.readline().split()\n",
    "                              for _ in range(127)])\n",
    "\n",
    "# Convertimos a reales.\n",
    "datos_seawifs = np.array([[float(dat) for dat in row] for row in datos_seawifs])\n",
    "\n",
    "# Para el sensor MODIS. Es lo mismo pero con otro archivo.\n",
    "\n",
    "with open('./JUNIO_2003/MODIS/Composicion (B10).txt') as archivo_modis:\n",
    "    for _ in range(5):\n",
    "        # Ignoramos los primeros 5 renglones del archivo.\n",
    "        archivo_modis.readline()\n",
    "    # Separamos los datos en una matriz.\n",
    "    datos_modis = np.array([archivo_modis.readline().split()\n",
    "                              for _ in range(127)])\n",
    "\n",
    "# Convertimos a reales.\n",
    "datos_modis = np.array([[float(dat) for dat in row] for row in datos_modis])\n",
    "\n",
    "##-----------------------------------------------\n",
    "\n",
    "media_seawifs = np.mean(datos_seawifs)\n",
    "media_modis = np.mean(datos_modis)\n",
    "\n",
    "var_seawifs = np.var(datos_seawifs)\n",
    "var_modis = np.var(datos_modis)\n",
    "\n",
    "print(\"Promedio de los datos del SeaWiFS sin limpiar: {}.\".format(media_seawifs))\n",
    "print(\"Promedio de los datos del MODIS sin limpiar: {}.\".format(media_modis))\n",
    "\n",
    "print(\"Varianza de los datos del SeaWiFS sin limpiar: {}.\".format(var_seawifs))\n",
    "print(\"Varianza de los datos del MODIS sin limpiar: {}.\".format(var_modis))\n",
    "\n",
    "##-----------------------------------------------\n",
    "\n",
    "filter(datos_seawifs, 127, 167, 3)\n",
    "filter(datos_modis, 127, 167, 3)\n",
    "\n",
    "##-----------------------------------------------\n",
    "\n",
    "media_seawifs = np.mean(datos_seawifs)\n",
    "media_modis = np.mean(datos_modis)\n",
    "\n",
    "var_seawifs = np.var(datos_seawifs)\n",
    "var_modis = np.var(datos_modis)\n",
    "\n",
    "print(\"Promedio de los datos del SeaWiFS limpios: {}.\".format(media_seawifs))\n",
    "print(\"Promedio de los datos del MODIS limpios: {}.\".format(media_modis))\n",
    "\n",
    "print(\"Varianza de los datos del SeaWiFS limpios: {}.\".format(var_seawifs))\n",
    "print(\"Varianza de los datos del MODIS limpios: {}.\".format(var_modis))\n",
    "\n",
    "##-----------------------------------------------\n",
    "\n",
    "datos_comb = abs(datos_seawifs - datos_modis)\n",
    "ma_comb = np.mean(datos_comb)\n",
    "var_comb = np.var(datos_comb)\n",
    "\n",
    "print(\"Media aritmética de las distancias entre pixeles: {}\".format(ma_comb))\n",
    "print(\"Varianza de las distancias entre pixeles: {}.\".format(var_comb))"
   ]
  }
 ],
 "metadata": {
  "@webio": {
   "lastCommId": "6B51287910AF466C8CF48B533596F456",
   "lastKernelId": "e22fcc14-9a95-4763-a2df-aa17a0e2df2f"
  },
  "kernelspec": {
   "display_name": "Python 3",
   "language": "python",
   "name": "python3"
  },
  "language_info": {
   "codemirror_mode": {
    "name": "ipython",
    "version": 3
   },
   "file_extension": ".py",
   "mimetype": "text/x-python",
   "name": "python",
   "nbconvert_exporter": "python",
   "pygments_lexer": "ipython3",
   "version": "3.6.7"
  }
 },
 "nbformat": 4,
 "nbformat_minor": 2
}
