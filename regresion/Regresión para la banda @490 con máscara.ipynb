{
 "cells": [
  {
   "cell_type": "markdown",
   "metadata": {},
   "source": [
    "# Análisis estadístico para la banda @490 utilizando una máscara\n",
    "\n",
    "Primero importaremos las librerías necesarias."
   ]
  },
  {
   "cell_type": "code",
   "execution_count": 1,
   "metadata": {},
   "outputs": [],
   "source": [
    "import numpy as np\n",
    "import pandas"
   ]
  },
  {
   "cell_type": "markdown",
   "metadata": {},
   "source": [
    "Leemos los datos para enero."
   ]
  },
  {
   "cell_type": "code",
   "execution_count": 2,
   "metadata": {},
   "outputs": [],
   "source": [
    "# Para el sensor SeaWiFS.\n",
    "\n",
    "with open('./ENERO_2003/SeaWiFS/Composicion (Lt_490).txt') as archivo_seawifs:\n",
    "    for _ in range(5):\n",
    "        # Ignoramos los primeros 5 renglones del archivo.\n",
    "        archivo_seawifs.readline()\n",
    "    # Separamos los datos en una matriz.\n",
    "    datos_seawifs = np.array([archivo_seawifs.readline().split()\n",
    "                              for _ in range(127)])\n",
    "\n",
    "# Convertimos a reales.\n",
    "datos_seawifs = np.array([[float(dat) for dat in row] for row in datos_seawifs])"
   ]
  },
  {
   "cell_type": "code",
   "execution_count": 3,
   "metadata": {},
   "outputs": [],
   "source": [
    "# Para el sensor MODIS. Es lo mismo pero con otro archivo.\n",
    "\n",
    "with open('./ENERO_2003/MODIS/Composicion (Band 10).txt') as archivo_modis:\n",
    "    for _ in range(5):\n",
    "        # Ignoramos los primeros 5 renglones del archivo.\n",
    "        archivo_modis.readline()\n",
    "    # Separamos los datos en una matriz.\n",
    "    datos_modis = np.array([archivo_modis.readline().split()\n",
    "                              for _ in range(127)])\n",
    "\n",
    "# Convertimos a reales.\n",
    "datos_modis = np.array([[float(dat) for dat in row] for row in datos_modis])"
   ]
  },
  {
   "cell_type": "markdown",
   "metadata": {},
   "source": [
    "Revisamos datos estadísticos de los datos sucios."
   ]
  },
  {
   "cell_type": "code",
   "execution_count": 4,
   "metadata": {},
   "outputs": [
    {
     "name": "stdout",
     "output_type": "stream",
     "text": [
      "Promedio de los datos del SeaWiFS: 44.80587750011788.\n",
      "Promedio de los datos del MODIS: 42.81177717478429.\n",
      "Varianza de los datos del SeaWiFS: 34.116755167250844.\n",
      "Varianza de los datos del MODIS: 15.516441651737484.\n"
     ]
    }
   ],
   "source": [
    "media_seawifs = np.mean(datos_seawifs)\n",
    "media_modis = np.mean(datos_modis)\n",
    "\n",
    "var_seawifs = np.var(datos_seawifs)\n",
    "var_modis = np.var(datos_modis)\n",
    "\n",
    "print(\"Promedio de los datos del SeaWiFS: {}.\".format(media_seawifs))\n",
    "print(\"Promedio de los datos del MODIS: {}.\".format(media_modis))\n",
    "\n",
    "print(\"Varianza de los datos del SeaWiFS: {}.\".format(var_seawifs))\n",
    "print(\"Varianza de los datos del MODIS: {}.\".format(var_modis))"
   ]
  },
  {
   "cell_type": "markdown",
   "metadata": {},
   "source": [
    "### Función de la máscara"
   ]
  },
  {
   "cell_type": "code",
   "execution_count": 5,
   "metadata": {},
   "outputs": [],
   "source": [
    "def filter(img, row, column, tol):\n",
    "    mean_img = np.mean(img)\n",
    "    \n",
    "    for i in range(row):\n",
    "        row_sum = 0.0\n",
    "        row_mean = 0.0\n",
    "        \n",
    "        for j in range(column):\n",
    "            row_sum += img[i][j]\n",
    "            row_mean = row_sum / (j + 1)\n",
    "            \n",
    "            if np.abs(img[i][j] - mean_img) >= tol:\n",
    "                img[i][j] = row_mean"
   ]
  },
  {
   "cell_type": "markdown",
   "metadata": {},
   "source": [
    "Ahora limpiamos las composiciones."
   ]
  },
  {
   "cell_type": "code",
   "execution_count": 6,
   "metadata": {},
   "outputs": [
    {
     "data": {
      "text/plain": [
       "array([[43.2616    , 43.211     , 43.211     , ..., 44.42011394,\n",
       "        44.56713313, 44.72653174],\n",
       "       [43.3355    , 43.2849    , 43.2815    , ..., 44.17657576,\n",
       "        44.30964398, 44.45525868],\n",
       "       [46.1365    , 45.978     , 45.9745    , ..., 44.16166667,\n",
       "        44.31279759, 44.46718263],\n",
       "       ...,\n",
       "       [70.2797    , 70.8224    , 71.09723333, ..., 43.7049    ,\n",
       "        43.7119    , 43.6942    ],\n",
       "       [68.9765    , 69.96825   , 70.39276667, ..., 43.6696    ,\n",
       "        43.6732    , 43.6555    ],\n",
       "       [68.9765    , 69.96825   , 70.39276667, ..., 43.6696    ,\n",
       "        43.6732    , 43.6555    ]])"
      ]
     },
     "execution_count": 6,
     "metadata": {},
     "output_type": "execute_result"
    }
   ],
   "source": [
    "filter(datos_seawifs, 127, 167, 3)\n",
    "datos_seawifs"
   ]
  },
  {
   "cell_type": "code",
   "execution_count": 7,
   "metadata": {},
   "outputs": [
    {
     "data": {
      "text/plain": [
       "array([[41.1685    , 41.1685    , 41.1422    , ..., 42.36185273,\n",
       "        42.47675482, 42.6072485 ],\n",
       "       [41.1632    , 41.1632    , 41.1404    , ..., 42.35594606,\n",
       "        42.46570542, 42.59244731],\n",
       "       [41.1659    , 41.1659    , 41.1199    , ..., 42.13505879,\n",
       "        42.22579639, 42.33192216],\n",
       "       ...,\n",
       "       [57.1579    , 57.1579    , 57.46426667, ..., 42.5495    ,\n",
       "        42.5752    , 42.5772    ],\n",
       "       [57.6873    , 57.6873    , 58.24273333, ..., 42.5521    ,\n",
       "        42.5816    , 42.5484    ],\n",
       "       [57.3493    , 57.3493    , 57.66856667, ..., 42.5366    ,\n",
       "        42.5614    , 42.5545    ]])"
      ]
     },
     "execution_count": 7,
     "metadata": {},
     "output_type": "execute_result"
    }
   ],
   "source": [
    "filter(datos_modis, 127, 167, 3)\n",
    "datos_modis"
   ]
  },
  {
   "cell_type": "code",
   "execution_count": 8,
   "metadata": {},
   "outputs": [
    {
     "name": "stdout",
     "output_type": "stream",
     "text": [
      "Promedio de los datos del SeaWiFS: 44.22460274622423.\n",
      "Promedio de los datos del MODIS: 42.267954780188504.\n",
      "Varianza de los datos del SeaWiFS: 23.073538620489863.\n",
      "Varianza de los datos del MODIS: 7.661569639921059.\n"
     ]
    }
   ],
   "source": [
    "media_seawifs = np.mean(datos_seawifs)\n",
    "media_modis = np.mean(datos_modis)\n",
    "\n",
    "var_seawifs = np.var(datos_seawifs)\n",
    "var_modis = np.var(datos_modis)\n",
    "\n",
    "print(\"Promedio de los datos del SeaWiFS: {}.\".format(media_seawifs))\n",
    "print(\"Promedio de los datos del MODIS: {}.\".format(media_modis))\n",
    "\n",
    "print(\"Varianza de los datos del SeaWiFS: {}.\".format(var_seawifs))\n",
    "print(\"Varianza de los datos del MODIS: {}.\".format(var_modis))"
   ]
  },
  {
   "cell_type": "code",
   "execution_count": 9,
   "metadata": {},
   "outputs": [
    {
     "name": "stdout",
     "output_type": "stream",
     "text": [
      "Media aritmética de las distancias entre pixeles: 1.9880353267150837\n",
      "Varianza de las distancias entre pixeles: 6.2742067874623535.\n"
     ]
    }
   ],
   "source": [
    "datos_comb = abs(datos_seawifs - datos_modis)\n",
    "ma_comb = np.mean(datos_comb)\n",
    "var_comb = np.var(datos_comb)\n",
    "\n",
    "print(\"Media aritmética de las distancias entre pixeles: {}\".format(ma_comb))\n",
    "print(\"Varianza de las distancias entre pixeles: {}.\".format(var_comb))"
   ]
  },
  {
   "cell_type": "markdown",
   "metadata": {},
   "source": [
    "## Febrero"
   ]
  },
  {
   "cell_type": "code",
   "execution_count": 11,
   "metadata": {},
   "outputs": [
    {
     "name": "stdout",
     "output_type": "stream",
     "text": [
      "Promedio de los datos del SeaWiFS sin limpiar: 50.37943367909849.\n",
      "Promedio de los datos del MODIS sin limpiar: 43.087711377245505.\n",
      "Varianza de los datos del SeaWiFS sin limpiar: 107.25804162019581.\n",
      "Varianza de los datos del MODIS sin limpiar: 20.39668228312531.\n",
      "Promedio de los datos del SeaWiFS limpios: 51.70773719253011.\n",
      "Promedio de los datos del MODIS limpios: 42.41915844819437.\n",
      "Varianza de los datos del SeaWiFS limpios: 76.84644794303915.\n",
      "Varianza de los datos del MODIS limpios: 10.499225195019521.\n",
      "Media aritmética de las distancias entre pixeles: 9.34791773275471\n",
      "Varianza de las distancias entre pixeles: 46.32811023228084.\n"
     ]
    }
   ],
   "source": [
    "# Para el sensor SeaWiFS.\n",
    "\n",
    "with open('./FEBRERO_2003/SeaWiFS/3_Bandas/Composicion (Lt_490).txt') as archivo_seawifs:\n",
    "    for _ in range(5):\n",
    "        # Ignoramos los primeros 5 renglones del archivo.\n",
    "        archivo_seawifs.readline()\n",
    "    # Separamos los datos en una matriz.\n",
    "    datos_seawifs = np.array([archivo_seawifs.readline().split()\n",
    "                              for _ in range(127)])\n",
    "\n",
    "# Convertimos a reales.\n",
    "datos_seawifs = np.array([[float(dat) for dat in row] for row in datos_seawifs])\n",
    "\n",
    "# Para el sensor MODIS. Es lo mismo pero con otro archivo.\n",
    "\n",
    "with open('./FEBRERO_2003/MODIS/3_Bandas/Composicion (B10).txt') as archivo_modis:\n",
    "    for _ in range(5):\n",
    "        # Ignoramos los primeros 5 renglones del archivo.\n",
    "        archivo_modis.readline()\n",
    "    # Separamos los datos en una matriz.\n",
    "    datos_modis = np.array([archivo_modis.readline().split()\n",
    "                              for _ in range(127)])\n",
    "\n",
    "# Convertimos a reales.\n",
    "datos_modis = np.array([[float(dat) for dat in row] for row in datos_modis])\n",
    "\n",
    "##-----------------------------------------------\n",
    "\n",
    "media_seawifs = np.mean(datos_seawifs)\n",
    "media_modis = np.mean(datos_modis)\n",
    "\n",
    "var_seawifs = np.var(datos_seawifs)\n",
    "var_modis = np.var(datos_modis)\n",
    "\n",
    "print(\"Promedio de los datos del SeaWiFS sin limpiar: {}.\".format(media_seawifs))\n",
    "print(\"Promedio de los datos del MODIS sin limpiar: {}.\".format(media_modis))\n",
    "\n",
    "print(\"Varianza de los datos del SeaWiFS sin limpiar: {}.\".format(var_seawifs))\n",
    "print(\"Varianza de los datos del MODIS sin limpiar: {}.\".format(var_modis))\n",
    "\n",
    "##-----------------------------------------------\n",
    "\n",
    "filter(datos_seawifs, 127, 167, 3)\n",
    "filter(datos_modis, 127, 167, 3)\n",
    "\n",
    "##-----------------------------------------------\n",
    "\n",
    "media_seawifs = np.mean(datos_seawifs)\n",
    "media_modis = np.mean(datos_modis)\n",
    "\n",
    "var_seawifs = np.var(datos_seawifs)\n",
    "var_modis = np.var(datos_modis)\n",
    "\n",
    "print(\"Promedio de los datos del SeaWiFS limpios: {}.\".format(media_seawifs))\n",
    "print(\"Promedio de los datos del MODIS limpios: {}.\".format(media_modis))\n",
    "\n",
    "print(\"Varianza de los datos del SeaWiFS limpios: {}.\".format(var_seawifs))\n",
    "print(\"Varianza de los datos del MODIS limpios: {}.\".format(var_modis))\n",
    "\n",
    "##-----------------------------------------------\n",
    "\n",
    "datos_comb = abs(datos_seawifs - datos_modis)\n",
    "ma_comb = np.mean(datos_comb)\n",
    "var_comb = np.var(datos_comb)\n",
    "\n",
    "print(\"Media aritmética de las distancias entre pixeles: {}\".format(ma_comb))\n",
    "print(\"Varianza de las distancias entre pixeles: {}.\".format(var_comb))"
   ]
  },
  {
   "cell_type": "markdown",
   "metadata": {},
   "source": [
    "## Marzo"
   ]
  },
  {
   "cell_type": "code",
   "execution_count": 13,
   "metadata": {},
   "outputs": [
    {
     "name": "stdout",
     "output_type": "stream",
     "text": [
      "Promedio de los datos del SeaWiFS sin limpiar: 53.67939175821586.\n",
      "Promedio de los datos del MODIS sin limpiar: 52.79657578858032.\n",
      "Varianza de los datos del SeaWiFS sin limpiar: 103.00748182330138.\n",
      "Varianza de los datos del MODIS sin limpiar: 22.182261898164807.\n",
      "Promedio de los datos del SeaWiFS limpios: 54.11770136800102.\n",
      "Promedio de los datos del MODIS limpios: 52.2968203511699.\n",
      "Varianza de los datos del SeaWiFS limpios: 66.34731076482039.\n",
      "Varianza de los datos del MODIS limpios: 10.143760457554672.\n",
      "Media aritmética de las distancias entre pixeles: 3.430510424892781\n",
      "Varianza de las distancias entre pixeles: 30.430246741487746.\n"
     ]
    }
   ],
   "source": [
    "# Para el sensor SeaWiFS.\n",
    "\n",
    "with open('./MARZO_2003/SeaWiFS/Composicion (Lt_490).txt') as archivo_seawifs:\n",
    "    for _ in range(5):\n",
    "        # Ignoramos los primeros 5 renglones del archivo.\n",
    "        archivo_seawifs.readline()\n",
    "    # Separamos los datos en una matriz.\n",
    "    datos_seawifs = np.array([archivo_seawifs.readline().split()\n",
    "                              for _ in range(127)])\n",
    "\n",
    "# Convertimos a reales.\n",
    "datos_seawifs = np.array([[float(dat) for dat in row] for row in datos_seawifs])\n",
    "\n",
    "# Para el sensor MODIS. Es lo mismo pero con otro archivo.\n",
    "\n",
    "with open('./MARZO_2003/MODIS/Composicion (B10).txt') as archivo_modis:\n",
    "    for _ in range(5):\n",
    "        # Ignoramos los primeros 5 renglones del archivo.\n",
    "        archivo_modis.readline()\n",
    "    # Separamos los datos en una matriz.\n",
    "    datos_modis = np.array([archivo_modis.readline().split()\n",
    "                              for _ in range(127)])\n",
    "\n",
    "# Convertimos a reales.\n",
    "datos_modis = np.array([[float(dat) for dat in row] for row in datos_modis])\n",
    "\n",
    "##-----------------------------------------------\n",
    "\n",
    "media_seawifs = np.mean(datos_seawifs)\n",
    "media_modis = np.mean(datos_modis)\n",
    "\n",
    "var_seawifs = np.var(datos_seawifs)\n",
    "var_modis = np.var(datos_modis)\n",
    "\n",
    "print(\"Promedio de los datos del SeaWiFS sin limpiar: {}.\".format(media_seawifs))\n",
    "print(\"Promedio de los datos del MODIS sin limpiar: {}.\".format(media_modis))\n",
    "\n",
    "print(\"Varianza de los datos del SeaWiFS sin limpiar: {}.\".format(var_seawifs))\n",
    "print(\"Varianza de los datos del MODIS sin limpiar: {}.\".format(var_modis))\n",
    "\n",
    "##-----------------------------------------------\n",
    "\n",
    "filter(datos_seawifs, 127, 167, 3)\n",
    "filter(datos_modis, 127, 167, 3)\n",
    "\n",
    "##-----------------------------------------------\n",
    "\n",
    "media_seawifs = np.mean(datos_seawifs)\n",
    "media_modis = np.mean(datos_modis)\n",
    "\n",
    "var_seawifs = np.var(datos_seawifs)\n",
    "var_modis = np.var(datos_modis)\n",
    "\n",
    "print(\"Promedio de los datos del SeaWiFS limpios: {}.\".format(media_seawifs))\n",
    "print(\"Promedio de los datos del MODIS limpios: {}.\".format(media_modis))\n",
    "\n",
    "print(\"Varianza de los datos del SeaWiFS limpios: {}.\".format(var_seawifs))\n",
    "print(\"Varianza de los datos del MODIS limpios: {}.\".format(var_modis))\n",
    "\n",
    "##-----------------------------------------------\n",
    "\n",
    "datos_comb = abs(datos_seawifs - datos_modis)\n",
    "ma_comb = np.mean(datos_comb)\n",
    "var_comb = np.var(datos_comb)\n",
    "\n",
    "print(\"Media aritmética de las distancias entre pixeles: {}\".format(ma_comb))\n",
    "print(\"Varianza de las distancias entre pixeles: {}.\".format(var_comb))"
   ]
  },
  {
   "cell_type": "markdown",
   "metadata": {},
   "source": [
    "## Abril"
   ]
  },
  {
   "cell_type": "code",
   "execution_count": 19,
   "metadata": {},
   "outputs": [
    {
     "name": "stdout",
     "output_type": "stream",
     "text": [
      "Promedio de los datos del SeaWiFS sin limpiar: 54.72241087745769.\n",
      "Promedio de los datos del MODIS sin limpiar: 60.11794838983451.\n",
      "Varianza de los datos del SeaWiFS sin limpiar: 60.94909096467634.\n",
      "Varianza de los datos del MODIS sin limpiar: 40.49489379521465.\n",
      "Promedio de los datos del SeaWiFS limpios: 53.98979575490149.\n",
      "Promedio de los datos del MODIS limpios: 59.4438555059975.\n",
      "Varianza de los datos del SeaWiFS limpios: 42.253364312692995.\n",
      "Varianza de los datos del MODIS limpios: 25.447410722934467.\n",
      "Media aritmética de las distancias entre pixeles: 5.816482642163787\n",
      "Varianza de las distancias entre pixeles: 4.554947115358228.\n"
     ]
    }
   ],
   "source": [
    "# Para el sensor SeaWiFS.\n",
    "\n",
    "with open('./ABRIL_2003_CORREGIDOS/SeaWiFS/Composicion (B490).txt') as archivo_seawifs:\n",
    "    for _ in range(5):\n",
    "        # Ignoramos los primeros 5 renglones del archivo.\n",
    "        archivo_seawifs.readline()\n",
    "    # Separamos los datos en una matriz.\n",
    "    datos_seawifs = np.array([archivo_seawifs.readline().split()\n",
    "                              for _ in range(127)])\n",
    "\n",
    "# Convertimos a reales.\n",
    "datos_seawifs = np.array([[float(dat) for dat in row] for row in datos_seawifs])\n",
    "\n",
    "# Para el sensor MODIS. Es lo mismo pero con otro archivo.\n",
    "\n",
    "with open('./ABRIL_2003_CORREGIDOS/MODIS/Composicion (B10).txt') as archivo_modis:\n",
    "    for _ in range(5):\n",
    "        # Ignoramos los primeros 5 renglones del archivo.\n",
    "        archivo_modis.readline()\n",
    "    # Separamos los datos en una matriz.\n",
    "    datos_modis = np.array([archivo_modis.readline().split()\n",
    "                              for _ in range(127)])\n",
    "\n",
    "# Convertimos a reales.\n",
    "datos_modis = np.array([[float(dat) for dat in row] for row in datos_modis])\n",
    "\n",
    "##-----------------------------------------------\n",
    "\n",
    "media_seawifs = np.mean(datos_seawifs)\n",
    "media_modis = np.mean(datos_modis)\n",
    "\n",
    "var_seawifs = np.var(datos_seawifs)\n",
    "var_modis = np.var(datos_modis)\n",
    "\n",
    "print(\"Promedio de los datos del SeaWiFS sin limpiar: {}.\".format(media_seawifs))\n",
    "print(\"Promedio de los datos del MODIS sin limpiar: {}.\".format(media_modis))\n",
    "\n",
    "print(\"Varianza de los datos del SeaWiFS sin limpiar: {}.\".format(var_seawifs))\n",
    "print(\"Varianza de los datos del MODIS sin limpiar: {}.\".format(var_modis))\n",
    "\n",
    "##-----------------------------------------------\n",
    "\n",
    "filter(datos_seawifs, 127, 167, 3)\n",
    "filter(datos_modis, 127, 167, 3)\n",
    "\n",
    "##-----------------------------------------------\n",
    "\n",
    "media_seawifs = np.mean(datos_seawifs)\n",
    "media_modis = np.mean(datos_modis)\n",
    "\n",
    "var_seawifs = np.var(datos_seawifs)\n",
    "var_modis = np.var(datos_modis)\n",
    "\n",
    "print(\"Promedio de los datos del SeaWiFS limpios: {}.\".format(media_seawifs))\n",
    "print(\"Promedio de los datos del MODIS limpios: {}.\".format(media_modis))\n",
    "\n",
    "print(\"Varianza de los datos del SeaWiFS limpios: {}.\".format(var_seawifs))\n",
    "print(\"Varianza de los datos del MODIS limpios: {}.\".format(var_modis))\n",
    "\n",
    "##-----------------------------------------------\n",
    "\n",
    "datos_comb = abs(datos_seawifs - datos_modis)\n",
    "ma_comb = np.mean(datos_comb)\n",
    "var_comb = np.var(datos_comb)\n",
    "\n",
    "print(\"Media aritmética de las distancias entre pixeles: {}\".format(ma_comb))\n",
    "print(\"Varianza de las distancias entre pixeles: {}.\".format(var_comb))"
   ]
  },
  {
   "cell_type": "markdown",
   "metadata": {},
   "source": [
    "## Mayo"
   ]
  },
  {
   "cell_type": "code",
   "execution_count": 15,
   "metadata": {},
   "outputs": [
    {
     "name": "stdout",
     "output_type": "stream",
     "text": [
      "Promedio de los datos del SeaWiFS sin limpiar: 56.658503922862934.\n",
      "Promedio de los datos del MODIS sin limpiar: 70.36671088217265.\n",
      "Varianza de los datos del SeaWiFS sin limpiar: 59.011802082315704.\n",
      "Varianza de los datos del MODIS sin limpiar: 15.154067451401215.\n",
      "Promedio de los datos del SeaWiFS limpios: 55.90985334423266.\n",
      "Promedio de los datos del MODIS limpios: 69.93189944310264.\n",
      "Varianza de los datos del SeaWiFS limpios: 40.14773499391633.\n",
      "Varianza de los datos del MODIS limpios: 7.441154719816533.\n",
      "Media aritmética de las distancias entre pixeles: 14.502244863450684\n",
      "Varianza de las distancias entre pixeles: 7.619140490183819.\n"
     ]
    }
   ],
   "source": [
    "# Para el sensor SeaWiFS.\n",
    "\n",
    "with open('./MAYO_2003/SeaWiFS/Composicion (Lt_490).txt') as archivo_seawifs:\n",
    "    for _ in range(5):\n",
    "        # Ignoramos los primeros 5 renglones del archivo.\n",
    "        archivo_seawifs.readline()\n",
    "    # Separamos los datos en una matriz.\n",
    "    datos_seawifs = np.array([archivo_seawifs.readline().split()\n",
    "                              for _ in range(127)])\n",
    "\n",
    "# Convertimos a reales.\n",
    "datos_seawifs = np.array([[float(dat) for dat in row] for row in datos_seawifs])\n",
    "\n",
    "# Para el sensor MODIS. Es lo mismo pero con otro archivo.\n",
    "\n",
    "with open('./MAYO_2003/MODIS/Composicion (B10).txt') as archivo_modis:\n",
    "    for _ in range(5):\n",
    "        # Ignoramos los primeros 5 renglones del archivo.\n",
    "        archivo_modis.readline()\n",
    "    # Separamos los datos en una matriz.\n",
    "    datos_modis = np.array([archivo_modis.readline().split()\n",
    "                              for _ in range(127)])\n",
    "\n",
    "# Convertimos a reales.\n",
    "datos_modis = np.array([[float(dat) for dat in row] for row in datos_modis])\n",
    "\n",
    "##-----------------------------------------------\n",
    "\n",
    "media_seawifs = np.mean(datos_seawifs)\n",
    "media_modis = np.mean(datos_modis)\n",
    "\n",
    "var_seawifs = np.var(datos_seawifs)\n",
    "var_modis = np.var(datos_modis)\n",
    "\n",
    "print(\"Promedio de los datos del SeaWiFS sin limpiar: {}.\".format(media_seawifs))\n",
    "print(\"Promedio de los datos del MODIS sin limpiar: {}.\".format(media_modis))\n",
    "\n",
    "print(\"Varianza de los datos del SeaWiFS sin limpiar: {}.\".format(var_seawifs))\n",
    "print(\"Varianza de los datos del MODIS sin limpiar: {}.\".format(var_modis))\n",
    "\n",
    "##-----------------------------------------------\n",
    "\n",
    "filter(datos_seawifs, 127, 167, 3)\n",
    "filter(datos_modis, 127, 167, 3)\n",
    "\n",
    "##-----------------------------------------------\n",
    "\n",
    "media_seawifs = np.mean(datos_seawifs)\n",
    "media_modis = np.mean(datos_modis)\n",
    "\n",
    "var_seawifs = np.var(datos_seawifs)\n",
    "var_modis = np.var(datos_modis)\n",
    "\n",
    "print(\"Promedio de los datos del SeaWiFS limpios: {}.\".format(media_seawifs))\n",
    "print(\"Promedio de los datos del MODIS limpios: {}.\".format(media_modis))\n",
    "\n",
    "print(\"Varianza de los datos del SeaWiFS limpios: {}.\".format(var_seawifs))\n",
    "print(\"Varianza de los datos del MODIS limpios: {}.\".format(var_modis))\n",
    "\n",
    "##-----------------------------------------------\n",
    "\n",
    "datos_comb = abs(datos_seawifs - datos_modis)\n",
    "ma_comb = np.mean(datos_comb)\n",
    "var_comb = np.var(datos_comb)\n",
    "\n",
    "print(\"Media aritmética de las distancias entre pixeles: {}\".format(ma_comb))\n",
    "print(\"Varianza de las distancias entre pixeles: {}.\".format(var_comb))"
   ]
  },
  {
   "cell_type": "markdown",
   "metadata": {},
   "source": [
    "## Junio"
   ]
  },
  {
   "cell_type": "code",
   "execution_count": 16,
   "metadata": {},
   "outputs": [
    {
     "name": "stdout",
     "output_type": "stream",
     "text": [
      "Promedio de los datos del SeaWiFS sin limpiar: 56.22971067471356.\n",
      "Promedio de los datos del MODIS sin limpiar: 63.00103334433496.\n",
      "Varianza de los datos del SeaWiFS sin limpiar: 54.710943638967585.\n",
      "Varianza de los datos del MODIS sin limpiar: 29.559309876998388.\n",
      "Promedio de los datos del SeaWiFS limpios: 56.88700181146849.\n",
      "Promedio de los datos del MODIS limpios: 63.952675965843156.\n",
      "Varianza de los datos del SeaWiFS limpios: 45.201157970597286.\n",
      "Varianza de los datos del MODIS limpios: 15.35683188417405.\n",
      "Media aritmética de las distancias entre pixeles: 7.869868988814386\n",
      "Varianza de las distancias entre pixeles: 11.98735997395566.\n"
     ]
    }
   ],
   "source": [
    "# Para el sensor SeaWiFS.\n",
    "\n",
    "with open('./JUNIO_2003/SeaWiFS/Composicion (Lt_490).txt') as archivo_seawifs:\n",
    "    for _ in range(5):\n",
    "        # Ignoramos los primeros 5 renglones del archivo.\n",
    "        archivo_seawifs.readline()\n",
    "    # Separamos los datos en una matriz.\n",
    "    datos_seawifs = np.array([archivo_seawifs.readline().split()\n",
    "                              for _ in range(127)])\n",
    "\n",
    "# Convertimos a reales.\n",
    "datos_seawifs = np.array([[float(dat) for dat in row] for row in datos_seawifs])\n",
    "\n",
    "# Para el sensor MODIS. Es lo mismo pero con otro archivo.\n",
    "\n",
    "with open('./JUNIO_2003/MODIS/Composicion (B10).txt') as archivo_modis:\n",
    "    for _ in range(5):\n",
    "        # Ignoramos los primeros 5 renglones del archivo.\n",
    "        archivo_modis.readline()\n",
    "    # Separamos los datos en una matriz.\n",
    "    datos_modis = np.array([archivo_modis.readline().split()\n",
    "                              for _ in range(127)])\n",
    "\n",
    "# Convertimos a reales.\n",
    "datos_modis = np.array([[float(dat) for dat in row] for row in datos_modis])\n",
    "\n",
    "##-----------------------------------------------\n",
    "\n",
    "media_seawifs = np.mean(datos_seawifs)\n",
    "media_modis = np.mean(datos_modis)\n",
    "\n",
    "var_seawifs = np.var(datos_seawifs)\n",
    "var_modis = np.var(datos_modis)\n",
    "\n",
    "print(\"Promedio de los datos del SeaWiFS sin limpiar: {}.\".format(media_seawifs))\n",
    "print(\"Promedio de los datos del MODIS sin limpiar: {}.\".format(media_modis))\n",
    "\n",
    "print(\"Varianza de los datos del SeaWiFS sin limpiar: {}.\".format(var_seawifs))\n",
    "print(\"Varianza de los datos del MODIS sin limpiar: {}.\".format(var_modis))\n",
    "\n",
    "##-----------------------------------------------\n",
    "\n",
    "filter(datos_seawifs, 127, 167, 3)\n",
    "filter(datos_modis, 127, 167, 3)\n",
    "\n",
    "##-----------------------------------------------\n",
    "\n",
    "media_seawifs = np.mean(datos_seawifs)\n",
    "media_modis = np.mean(datos_modis)\n",
    "\n",
    "var_seawifs = np.var(datos_seawifs)\n",
    "var_modis = np.var(datos_modis)\n",
    "\n",
    "print(\"Promedio de los datos del SeaWiFS limpios: {}.\".format(media_seawifs))\n",
    "print(\"Promedio de los datos del MODIS limpios: {}.\".format(media_modis))\n",
    "\n",
    "print(\"Varianza de los datos del SeaWiFS limpios: {}.\".format(var_seawifs))\n",
    "print(\"Varianza de los datos del MODIS limpios: {}.\".format(var_modis))\n",
    "\n",
    "##-----------------------------------------------\n",
    "\n",
    "datos_comb = abs(datos_seawifs - datos_modis)\n",
    "ma_comb = np.mean(datos_comb)\n",
    "var_comb = np.var(datos_comb)\n",
    "\n",
    "print(\"Media aritmética de las distancias entre pixeles: {}\".format(ma_comb))\n",
    "print(\"Varianza de las distancias entre pixeles: {}.\".format(var_comb))"
   ]
  }
 ],
 "metadata": {
  "kernelspec": {
   "display_name": "Python 3",
   "language": "python",
   "name": "python3"
  },
  "language_info": {
   "codemirror_mode": {
    "name": "ipython",
    "version": 3
   },
   "file_extension": ".py",
   "mimetype": "text/x-python",
   "name": "python",
   "nbconvert_exporter": "python",
   "pygments_lexer": "ipython3",
   "version": "3.6.6"
  }
 },
 "nbformat": 4,
 "nbformat_minor": 2
}
