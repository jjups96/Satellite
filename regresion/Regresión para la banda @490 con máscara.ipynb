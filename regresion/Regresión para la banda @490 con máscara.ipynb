{
 "cells": [
  {
   "cell_type": "markdown",
   "metadata": {},
   "source": [
    "# Análisis estadístico para la banda @490 utilizando una máscara\n",
    "\n",
    "Esta libreta implementa una máscara sencilla para limpiar matrices y realizar un análisis estadístico sencillo sobre los resultados.\n",
    "\n",
    "Primero importaremos las librerías necesarias."
   ]
  },
  {
   "cell_type": "code",
   "execution_count": 1,
   "metadata": {},
   "outputs": [],
   "source": [
    "import numpy as np\n",
    "import pandas"
   ]
  },
  {
   "cell_type": "markdown",
   "metadata": {},
   "source": [
    "Leemos los datos para enero."
   ]
  },
  {
   "cell_type": "code",
   "execution_count": 2,
   "metadata": {},
   "outputs": [],
   "source": [
    "# Para el sensor SeaWiFS.\n",
    "with open('./ENERO_2003/SeaWiFS/Composicion (Lt_490).txt') as archivo_seawifs:\n",
    "    for _ in range(5):\n",
    "        # Ignoramos los primeros 5 renglones del archivo.\n",
    "        archivo_seawifs.readline()\n",
    "    # Separamos los datos en una matriz.\n",
    "    datos_seawifs = np.array([archivo_seawifs.readline().split()\n",
    "                              for _ in range(127)])\n",
    "\n",
    "# Convertimos a reales.\n",
    "datos_seawifs = np.array([[float(dat) for dat in row] for row in datos_seawifs])\n",
    "\n",
    "# Para el sensor MODIS. Es lo mismo pero con otro archivo.\n",
    "with open('./ENERO_2003/MODIS/Composicion (Band 10).txt') as archivo_modis:\n",
    "    for _ in range(5):\n",
    "        # Ignoramos los primeros 5 renglones del archivo.\n",
    "        archivo_modis.readline()\n",
    "    # Separamos los datos en una matriz.\n",
    "    datos_modis = np.array([archivo_modis.readline().split()\n",
    "                              for _ in range(127)])\n",
    "\n",
    "# Convertimos a reales.\n",
    "datos_modis = np.array([[float(dat) for dat in row] for row in datos_modis])"
   ]
  },
  {
   "cell_type": "markdown",
   "metadata": {},
   "source": [
    "Revisamos datos estadísticos de los datos sucios."
   ]
  },
  {
   "cell_type": "code",
   "execution_count": 3,
   "metadata": {},
   "outputs": [
    {
     "name": "stdout",
     "output_type": "stream",
     "text": [
      "Promedio de los datos del SeaWiFS: 44.80587750011788.\n",
      "Promedio de los datos del MODIS: 42.81177717478429.\n",
      "Varianza de los datos del SeaWiFS: 34.116755167250844.\n",
      "Varianza de los datos del MODIS: 15.516441651737484.\n"
     ]
    }
   ],
   "source": [
    "media_seawifs = np.mean(datos_seawifs)\n",
    "media_modis = np.mean(datos_modis)\n",
    "\n",
    "var_seawifs = np.var(datos_seawifs)\n",
    "var_modis = np.var(datos_modis)\n",
    "\n",
    "print(\"Promedio de los datos del SeaWiFS: {}.\".format(media_seawifs))\n",
    "print(\"Promedio de los datos del MODIS: {}.\".format(media_modis))\n",
    "\n",
    "print(\"Varianza de los datos del SeaWiFS: {}.\".format(var_seawifs))\n",
    "print(\"Varianza de los datos del MODIS: {}.\".format(var_modis))"
   ]
  },
  {
   "cell_type": "markdown",
   "metadata": {},
   "source": [
    "### Función de la máscara"
   ]
  },
  {
   "cell_type": "code",
   "execution_count": 4,
   "metadata": {},
   "outputs": [],
   "source": [
    "def filter(img, row, column):\n",
    "    mean_img = np.mean(img)\n",
    "    tol = 3 * np.std(img)\n",
    "    \n",
    "    for i in range(row):\n",
    "        row_sum = 0.0\n",
    "        row_mean = 0.0\n",
    "        \n",
    "        for j in range(column):\n",
    "            if np.abs(img[i][j] - mean_img) >= tol:\n",
    "                img[i][j] = mean_img"
   ]
  },
  {
   "cell_type": "markdown",
   "metadata": {},
   "source": [
    "Ahora limpiamos las composiciones."
   ]
  },
  {
   "cell_type": "code",
   "execution_count": 5,
   "metadata": {},
   "outputs": [],
   "source": [
    "filter(datos_seawifs, 127, 167)\n",
    "filter(datos_modis, 127, 167)"
   ]
  },
  {
   "cell_type": "markdown",
   "metadata": {},
   "source": [
    "Revisamos los datos limpios."
   ]
  },
  {
   "cell_type": "code",
   "execution_count": 6,
   "metadata": {},
   "outputs": [
    {
     "name": "stdout",
     "output_type": "stream",
     "text": [
      "Promedio de los datos del SeaWiFS: 43.71391638491253.\n",
      "Promedio de los datos del MODIS: 42.18228854985871.\n",
      "Varianza de los datos del SeaWiFS: 4.959781832275386.\n",
      "Varianza de los datos del MODIS: 3.8079368398081495.\n"
     ]
    }
   ],
   "source": [
    "media_seawifs = np.mean(datos_seawifs)\n",
    "media_modis = np.mean(datos_modis)\n",
    "\n",
    "var_seawifs = np.var(datos_seawifs)\n",
    "var_modis = np.var(datos_modis)\n",
    "\n",
    "print(\"Promedio de los datos del SeaWiFS: {}.\".format(media_seawifs))\n",
    "print(\"Promedio de los datos del MODIS: {}.\".format(media_modis))\n",
    "\n",
    "print(\"Varianza de los datos del SeaWiFS: {}.\".format(var_seawifs))\n",
    "print(\"Varianza de los datos del MODIS: {}.\".format(var_modis))"
   ]
  },
  {
   "cell_type": "markdown",
   "metadata": {},
   "source": [
    "Comparamos ambas matrices calculando la diferencia absoluta entre ellas."
   ]
  },
  {
   "cell_type": "code",
   "execution_count": 7,
   "metadata": {},
   "outputs": [
    {
     "name": "stdout",
     "output_type": "stream",
     "text": [
      "Media aritmética de las distancias entre pixeles: 1.736816359498021\n",
      "Varianza de las distancias entre pixeles: 2.5862544501914653.\n"
     ]
    }
   ],
   "source": [
    "datos_comb = abs(datos_seawifs - datos_modis)\n",
    "ma_comb = np.mean(datos_comb)\n",
    "var_comb = np.var(datos_comb)\n",
    "\n",
    "print(\"Media aritmética de las distancias entre pixeles: {}\".format(ma_comb))\n",
    "print(\"Varianza de las distancias entre pixeles: {}.\".format(var_comb))"
   ]
  },
  {
   "cell_type": "markdown",
   "metadata": {},
   "source": [
    "## Febrero a Junio\n",
    "\n",
    "El proceso anterior lo aplicaremos para cada mes de los datos disponibles."
   ]
  },
  {
   "cell_type": "code",
   "execution_count": 8,
   "metadata": {},
   "outputs": [
    {
     "name": "stdout",
     "output_type": "stream",
     "text": [
      "Análisis para el mes de Febrero\n",
      "Promedio de los datos del SeaWiFS sin limpiar: 50.37943367909849.\n",
      "Promedio de los datos del MODIS sin limpiar: 43.087711377245505.\n",
      "Varianza de los datos del SeaWiFS sin limpiar: 107.25804162019581.\n",
      "Varianza de los datos del MODIS sin limpiar: 20.39668228312531.\n",
      "Promedio de los datos del SeaWiFS limpios: 48.75700040037154.\n",
      "Promedio de los datos del MODIS limpios: 42.393132918236326.\n",
      "Varianza de los datos del SeaWiFS limpios: 34.4880739742457.\n",
      "Varianza de los datos del MODIS limpios: 5.993207478240061.\n",
      "Media aritmética de las distancias entre pixeles: 6.509689854485027\n",
      "Varianza de las distancias entre pixeles: 27.402702166275965.\n",
      "\n",
      "Análisis para el mes de Marzo\n",
      "Promedio de los datos del SeaWiFS sin limpiar: 53.67939175821586.\n",
      "Promedio de los datos del MODIS sin limpiar: 52.79657578858032.\n",
      "Varianza de los datos del SeaWiFS sin limpiar: 103.00748182330138.\n",
      "Varianza de los datos del MODIS sin limpiar: 22.182261898164807.\n",
      "Promedio de los datos del SeaWiFS limpios: 51.96848864399668.\n",
      "Promedio de los datos del MODIS limpios: 52.02128145877944.\n",
      "Varianza de los datos del SeaWiFS limpios: 28.864476310441137.\n",
      "Varianza de los datos del MODIS limpios: 5.710878809343053.\n",
      "Media aritmética de las distancias entre pixeles: 2.4355069924735355\n",
      "Varianza de las distancias entre pixeles: 19.056237113494422.\n",
      "\n",
      "Análisis para el mes de Abril\n",
      "Promedio de los datos del SeaWiFS sin limpiar: 54.72241087745769.\n",
      "Promedio de los datos del MODIS sin limpiar: 60.11794838983451.\n",
      "Varianza de los datos del SeaWiFS sin limpiar: 60.94909096467634.\n",
      "Varianza de los datos del MODIS sin limpiar: 40.49489379521465.\n",
      "Promedio de los datos del SeaWiFS limpios: 53.22814853738409.\n",
      "Promedio de los datos del MODIS limpios: 58.93513965081599.\n",
      "Varianza de los datos del SeaWiFS limpios: 8.610299466143664.\n",
      "Varianza de los datos del MODIS limpios: 5.890090146728411.\n",
      "Media aritmética de las distancias entre pixeles: 5.884742924600826\n",
      "Varianza de las distancias entre pixeles: 2.0351697677606895.\n",
      "\n",
      "Análisis para el mes de Mayo\n",
      "Promedio de los datos del SeaWiFS sin limpiar: 56.658503922862934.\n",
      "Promedio de los datos del MODIS sin limpiar: 70.36671088217265.\n",
      "Varianza de los datos del SeaWiFS sin limpiar: 59.011802082315704.\n",
      "Varianza de los datos del MODIS sin limpiar: 15.154067451401215.\n",
      "Promedio de los datos del SeaWiFS limpios: 55.18849299138007.\n",
      "Promedio de los datos del MODIS limpios: 69.78291251902684.\n",
      "Varianza de los datos del SeaWiFS limpios: 7.7064648502221536.\n",
      "Varianza de los datos del MODIS limpios: 4.7058347111068.\n",
      "Media aritmética de las distancias entre pixeles: 14.642879184147864\n",
      "Varianza de las distancias entre pixeles: 4.833092954617757.\n",
      "\n",
      "Análisis para el mes de Junio\n",
      "Promedio de los datos del SeaWiFS sin limpiar: 56.22971067471356.\n",
      "Promedio de los datos del MODIS sin limpiar: 63.00103334433496.\n",
      "Varianza de los datos del SeaWiFS sin limpiar: 54.710943638967585.\n",
      "Varianza de los datos del MODIS sin limpiar: 29.559309876998388.\n",
      "Promedio de los datos del SeaWiFS limpios: 54.927606321300914.\n",
      "Promedio de los datos del MODIS limpios: 62.28359724995893.\n",
      "Varianza de los datos del SeaWiFS limpios: 11.431473206929397.\n",
      "Varianza de los datos del MODIS limpios: 13.170024636292505.\n",
      "Media aritmética de las distancias entre pixeles: 7.4700317298843135\n",
      "Varianza de las distancias entre pixeles: 8.367692175541622.\n",
      "\n"
     ]
    }
   ],
   "source": [
    "seawifs_path = ['./FEBRERO_2003/SeaWiFS/3_Bandas/Composicion (Lt_490).txt', \n",
    "               './MARZO_2003/SeaWiFS/Composicion (Lt_490).txt',\n",
    "               './ABRIL_2003_CORREGIDOS/SeaWiFS/Composicion (B490).txt',\n",
    "               './MAYO_2003/SeaWiFS/Composicion (Lt_490).txt',\n",
    "               './JUNIO_2003/SeaWiFS/Composicion (Lt_490).txt']\n",
    "modis_path = ['./FEBRERO_2003/MODIS/3_Bandas/Composicion (B10).txt',\n",
    "             './MARZO_2003/MODIS/Composicion (B10).txt',\n",
    "             './ABRIL_2003_CORREGIDOS/MODIS/Composicion (B10).txt',\n",
    "             './MAYO_2003/MODIS/Composicion (B10).txt',\n",
    "             './JUNIO_2003/MODIS/Composicion (B10).txt']\n",
    "\n",
    "meses = ['Febrero', 'Marzo', 'Abril', 'Mayo', 'Junio']\n",
    "\n",
    "for loc_seawifs, loc_modis, mes in zip(seawifs_path, modis_path, meses):\n",
    "    print(\"Análisis para el mes de {}\".format(mes))\n",
    "    # Para el sensor SeaWiFS.\n",
    "\n",
    "    with open(loc_seawifs) as archivo_seawifs:\n",
    "        for _ in range(5):\n",
    "            # Ignoramos los primeros 5 renglones del archivo.\n",
    "            archivo_seawifs.readline()\n",
    "        # Separamos los datos en una matriz.\n",
    "        datos_seawifs = np.array([archivo_seawifs.readline().split()\n",
    "                                  for _ in range(127)])\n",
    "\n",
    "    # Convertimos a reales.\n",
    "    datos_seawifs = np.array([[float(dat) for dat in row] for row in datos_seawifs])\n",
    "\n",
    "    # Para el sensor MODIS. Es lo mismo pero con otro archivo.\n",
    "\n",
    "    with open(loc_modis) as archivo_modis:\n",
    "        for _ in range(5):\n",
    "            # Ignoramos los primeros 5 renglones del archivo.\n",
    "            archivo_modis.readline()\n",
    "        # Separamos los datos en una matriz.\n",
    "        datos_modis = np.array([archivo_modis.readline().split()\n",
    "                                  for _ in range(127)])\n",
    "\n",
    "    # Convertimos a reales.\n",
    "    datos_modis = np.array([[float(dat) for dat in row] for row in datos_modis])\n",
    "\n",
    "    ##-----------------------------------------------\n",
    "\n",
    "    media_seawifs = np.mean(datos_seawifs)\n",
    "    media_modis = np.mean(datos_modis)\n",
    "\n",
    "    var_seawifs = np.var(datos_seawifs)\n",
    "    var_modis = np.var(datos_modis)\n",
    "\n",
    "    print(\"Promedio de los datos del SeaWiFS sin limpiar: {}.\".format(media_seawifs))\n",
    "    print(\"Promedio de los datos del MODIS sin limpiar: {}.\".format(media_modis))\n",
    "\n",
    "    print(\"Varianza de los datos del SeaWiFS sin limpiar: {}.\".format(var_seawifs))\n",
    "    print(\"Varianza de los datos del MODIS sin limpiar: {}.\".format(var_modis))\n",
    "\n",
    "    ##-----------------------------------------------\n",
    "\n",
    "    filter(datos_seawifs, 127, 167)\n",
    "    filter(datos_modis, 127, 167)\n",
    "\n",
    "    ##-----------------------------------------------\n",
    "\n",
    "    media_seawifs = np.mean(datos_seawifs)\n",
    "    media_modis = np.mean(datos_modis)\n",
    "\n",
    "    var_seawifs = np.var(datos_seawifs)\n",
    "    var_modis = np.var(datos_modis)\n",
    "\n",
    "    print(\"Promedio de los datos del SeaWiFS limpios: {}.\".format(media_seawifs))\n",
    "    print(\"Promedio de los datos del MODIS limpios: {}.\".format(media_modis))\n",
    "\n",
    "    print(\"Varianza de los datos del SeaWiFS limpios: {}.\".format(var_seawifs))\n",
    "    print(\"Varianza de los datos del MODIS limpios: {}.\".format(var_modis))\n",
    "\n",
    "    ##-----------------------------------------------\n",
    "\n",
    "    datos_comb = abs(datos_seawifs - datos_modis)\n",
    "    ma_comb = np.mean(datos_comb)\n",
    "    var_comb = np.var(datos_comb)\n",
    "\n",
    "    print(\"Media aritmética de las distancias entre pixeles: {}\".format(ma_comb))\n",
    "    print(\"Varianza de las distancias entre pixeles: {}.\\n\".format(var_comb))"
   ]
  }
 ],
 "metadata": {
  "@webio": {
   "lastCommId": "08737EBC51F14E548A41F6327E7B6DFA",
   "lastKernelId": "3510ea23-bf40-4eb4-b326-cdaa70000d6e"
  },
  "kernelspec": {
   "display_name": "Python 3",
   "language": "python",
   "name": "python3"
  },
  "language_info": {
   "codemirror_mode": {
    "name": "ipython",
    "version": 3
   },
   "file_extension": ".py",
   "mimetype": "text/x-python",
   "name": "python",
   "nbconvert_exporter": "python",
   "pygments_lexer": "ipython3",
   "version": "3.6.7"
  }
 },
 "nbformat": 4,
 "nbformat_minor": 2
}
