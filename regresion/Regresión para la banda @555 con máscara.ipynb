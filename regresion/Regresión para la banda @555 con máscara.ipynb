{
 "cells": [
  {
   "cell_type": "markdown",
   "metadata": {},
   "source": [
    "# Análisis estadístico para la banda @555 utilizando una máscara\n",
    "\n",
    "Esta libreta implementa una máscara sencilla para limpiar matrices y realizar un análisis estadístico sencillo sobre los resultados.\n",
    "\n",
    "Primero importaremos las librerías necesarias."
   ]
  },
  {
   "cell_type": "code",
   "execution_count": 1,
   "metadata": {},
   "outputs": [],
   "source": [
    "import numpy as np\n",
    "import pandas"
   ]
  },
  {
   "cell_type": "markdown",
   "metadata": {},
   "source": [
    "Leemos los datos para enero."
   ]
  },
  {
   "cell_type": "code",
   "execution_count": 2,
   "metadata": {},
   "outputs": [],
   "source": [
    "# Para el sensor SeaWiFS.\n",
    "with open('./ENERO_2003/SeaWiFS/Composicion (Lt_555).txt') as archivo_seawifs:\n",
    "    for _ in range(5):\n",
    "        # Ignoramos los primeros 5 renglones del archivo.\n",
    "        archivo_seawifs.readline()\n",
    "    # Separamos los datos en una matriz.\n",
    "    datos_seawifs = np.array([archivo_seawifs.readline().split()\n",
    "                              for _ in range(127)])\n",
    "\n",
    "# Convertimos a reales.\n",
    "datos_seawifs = np.array([[float(dat) for dat in row] for row in datos_seawifs])\n",
    "\n",
    "# Para el sensor MODIS. Es lo mismo pero con otro archivo.\n",
    "with open('./ENERO_2003/MODIS/Composicion (Band 12).txt') as archivo_modis:\n",
    "    for _ in range(5):\n",
    "        # Ignoramos los primeros 5 renglones del archivo.\n",
    "        archivo_modis.readline()\n",
    "    # Separamos los datos en una matriz.\n",
    "    datos_modis = np.array([archivo_modis.readline().split()\n",
    "                              for _ in range(127)])\n",
    "\n",
    "# Convertimos a reales.\n",
    "datos_modis = np.array([[float(dat) for dat in row] for row in datos_modis])"
   ]
  },
  {
   "cell_type": "markdown",
   "metadata": {},
   "source": [
    "Revisamos datos estadísticos de los datos sucios."
   ]
  },
  {
   "cell_type": "code",
   "execution_count": 3,
   "metadata": {},
   "outputs": [
    {
     "name": "stdout",
     "output_type": "stream",
     "text": [
      "Promedio de los datos del SeaWiFS: 26.797526653779055.\n",
      "Promedio de los datos del MODIS: 26.92018436512801.\n",
      "Varianza de los datos del SeaWiFS: 63.224910538906244.\n",
      "Varianza de los datos del MODIS: 28.748522280901284.\n"
     ]
    }
   ],
   "source": [
    "media_seawifs = np.mean(datos_seawifs)\n",
    "media_modis = np.mean(datos_modis)\n",
    "\n",
    "var_seawifs = np.var(datos_seawifs)\n",
    "var_modis = np.var(datos_modis)\n",
    "\n",
    "print(\"Promedio de los datos del SeaWiFS: {}.\".format(media_seawifs))\n",
    "print(\"Promedio de los datos del MODIS: {}.\".format(media_modis))\n",
    "\n",
    "print(\"Varianza de los datos del SeaWiFS: {}.\".format(var_seawifs))\n",
    "print(\"Varianza de los datos del MODIS: {}.\".format(var_modis))"
   ]
  },
  {
   "cell_type": "markdown",
   "metadata": {},
   "source": [
    "### Función de la máscara"
   ]
  },
  {
   "cell_type": "code",
   "execution_count": 4,
   "metadata": {},
   "outputs": [],
   "source": [
    "def filter(img, row, column):\n",
    "    mean_img = np.mean(img)\n",
    "    tol = 3 * np.std(img)\n",
    "    \n",
    "    for i in range(row):\n",
    "        row_sum = 0.0\n",
    "        row_mean = 0.0\n",
    "        \n",
    "        for j in range(column):\n",
    "            if np.abs(img[i][j] - mean_img) >= tol:\n",
    "                img[i][j] = mean_img"
   ]
  },
  {
   "cell_type": "markdown",
   "metadata": {},
   "source": [
    "Ahora limpiamos las composiciones."
   ]
  },
  {
   "cell_type": "code",
   "execution_count": 5,
   "metadata": {},
   "outputs": [],
   "source": [
    "filter(datos_seawifs, 127, 167)\n",
    "filter(datos_modis, 127, 167)"
   ]
  },
  {
   "cell_type": "markdown",
   "metadata": {},
   "source": [
    "Revisamos los datos limpios."
   ]
  },
  {
   "cell_type": "code",
   "execution_count": 6,
   "metadata": {},
   "outputs": [
    {
     "name": "stdout",
     "output_type": "stream",
     "text": [
      "Promedio de los datos del SeaWiFS: 25.29328108072652.\n",
      "Promedio de los datos del MODIS: 25.962328187189804.\n",
      "Varianza de los datos del SeaWiFS: 8.949307253569854.\n",
      "Varianza de los datos del MODIS: 6.054601327923097.\n"
     ]
    }
   ],
   "source": [
    "media_seawifs = np.mean(datos_seawifs)\n",
    "media_modis = np.mean(datos_modis)\n",
    "\n",
    "var_seawifs = np.var(datos_seawifs)\n",
    "var_modis = np.var(datos_modis)\n",
    "\n",
    "print(\"Promedio de los datos del SeaWiFS: {}.\".format(media_seawifs))\n",
    "print(\"Promedio de los datos del MODIS: {}.\".format(media_modis))\n",
    "\n",
    "print(\"Varianza de los datos del SeaWiFS: {}.\".format(var_seawifs))\n",
    "print(\"Varianza de los datos del MODIS: {}.\".format(var_modis))"
   ]
  },
  {
   "cell_type": "markdown",
   "metadata": {},
   "source": [
    "Comparamos ambas matrices calculando la diferencia absoluta entre ellas."
   ]
  },
  {
   "cell_type": "code",
   "execution_count": 7,
   "metadata": {},
   "outputs": [
    {
     "name": "stdout",
     "output_type": "stream",
     "text": [
      "Media aritmética de las distancias entre pixeles: 1.1556727722888482\n",
      "Varianza de las distancias entre pixeles: 4.113432548014346.\n"
     ]
    }
   ],
   "source": [
    "datos_comb = abs(datos_seawifs - datos_modis)\n",
    "ma_comb = np.mean(datos_comb)\n",
    "var_comb = np.var(datos_comb)\n",
    "\n",
    "print(\"Media aritmética de las distancias entre pixeles: {}\".format(ma_comb))\n",
    "print(\"Varianza de las distancias entre pixeles: {}.\".format(var_comb))"
   ]
  },
  {
   "cell_type": "markdown",
   "metadata": {},
   "source": [
    "## Febrero a Junio\n",
    "\n",
    "El proceso anterior lo aplicaremos para cada mes de los datos disponibles."
   ]
  },
  {
   "cell_type": "code",
   "execution_count": 8,
   "metadata": {},
   "outputs": [
    {
     "name": "stdout",
     "output_type": "stream",
     "text": [
      "Análisis para el mes de Febrero\n",
      "Promedio de los datos del SeaWiFS sin limpiar: 31.519342232071295.\n",
      "Promedio de los datos del MODIS sin limpiar: 28.102216973926165.\n",
      "Varianza de los datos del SeaWiFS sin limpiar: 144.5797617945364.\n",
      "Varianza de los datos del MODIS sin limpiar: 33.49479096316608.\n",
      "Promedio de los datos del SeaWiFS limpios: 29.50822424054011.\n",
      "Promedio de los datos del MODIS limpios: 27.1166504804914.\n",
      "Varianza de los datos del SeaWiFS limpios: 39.574324115132235.\n",
      "Varianza de los datos del MODIS limpios: 8.34458338520682.\n",
      "Media aritmética de las distancias entre pixeles: 2.9307343902153975\n",
      "Varianza de las distancias entre pixeles: 30.03897346034906.\n",
      "\n",
      "Análisis para el mes de Marzo\n",
      "Promedio de los datos del SeaWiFS sin limpiar: 33.66331414493847.\n",
      "Promedio de los datos del MODIS sin limpiar: 35.639694639068324.\n",
      "Varianza de los datos del SeaWiFS sin limpiar: 156.73346272014223.\n",
      "Varianza de los datos del MODIS sin limpiar: 15.190722190206069.\n",
      "Promedio de los datos del SeaWiFS limpios: 31.445411824944912.\n",
      "Promedio de los datos del MODIS limpios: 35.483206129430876.\n",
      "Varianza de los datos del SeaWiFS limpios: 37.633323054892905.\n",
      "Varianza de los datos del MODIS limpios: 4.746596069049067.\n",
      "Media aritmética de las distancias entre pixeles: 6.1614844792634615\n",
      "Varianza de las distancias entre pixeles: 13.139278524100744.\n",
      "\n",
      "Análisis para el mes de Abril\n",
      "Promedio de los datos del SeaWiFS sin limpiar: 34.17170616719318.\n",
      "Promedio de los datos del MODIS sin limpiar: 36.77222199537932.\n",
      "Varianza de los datos del SeaWiFS sin limpiar: 105.87959025028778.\n",
      "Varianza de los datos del MODIS sin limpiar: 32.54352000849399.\n",
      "Promedio de los datos del SeaWiFS limpios: 32.20534447468886.\n",
      "Promedio de los datos del MODIS limpios: 37.47427825755868.\n",
      "Varianza de los datos del SeaWiFS limpios: 15.456293929871263.\n",
      "Varianza de los datos del MODIS limpios: 6.145104604408764.\n",
      "Media aritmética de las distancias entre pixeles: 6.157019502200918\n",
      "Varianza de las distancias entre pixeles: 4.647127986699734.\n",
      "\n",
      "Análisis para el mes de Mayo\n",
      "Promedio de los datos del SeaWiFS sin limpiar: 35.705850686029514.\n",
      "Promedio de los datos del MODIS sin limpiar: 34.74851668159744.\n",
      "Varianza de los datos del SeaWiFS sin limpiar: 112.76239012577737.\n",
      "Varianza de los datos del MODIS sin limpiar: 32.70386904516375.\n",
      "Promedio de los datos del SeaWiFS limpios: 33.667751830140446.\n",
      "Promedio de los datos del MODIS limpios: 35.23683897035813.\n",
      "Varianza de los datos del SeaWiFS limpios: 15.824412123694122.\n",
      "Varianza de los datos del MODIS limpios: 18.051306510475396.\n",
      "Media aritmética de las distancias entre pixeles: 3.803275901307211\n",
      "Varianza de las distancias entre pixeles: 15.87923319711723.\n",
      "\n",
      "Análisis para el mes de Junio\n",
      "Promedio de los datos del SeaWiFS sin limpiar: 34.450352812485264.\n",
      "Promedio de los datos del MODIS sin limpiar: 39.048506591541326.\n",
      "Varianza de los datos del SeaWiFS sin limpiar: 108.33587852987857.\n",
      "Varianza de los datos del MODIS sin limpiar: 28.407675274575812.\n",
      "Promedio de los datos del SeaWiFS limpios: 32.57108261172965.\n",
      "Promedio de los datos del MODIS limpios: 39.43902408180143.\n",
      "Varianza de los datos del SeaWiFS limpios: 20.912486394452987.\n",
      "Varianza de los datos del MODIS limpios: 12.702567981037456.\n",
      "Media aritmética de las distancias entre pixeles: 7.800055622824236\n",
      "Varianza de las distancias entre pixeles: 9.456793372524228.\n",
      "\n"
     ]
    }
   ],
   "source": [
    "seawifs_path = ['./FEBRERO_2003/SeaWiFS/3_Bandas/Composicion (Lt_555).txt', \n",
    "               './MARZO_2003/SeaWiFS/Composicion (Lt_555).txt',\n",
    "               './ABRIL_2003_CORREGIDOS/SeaWiFS/Composicion (B555).txt',\n",
    "               './MAYO_2003/SeaWiFS/Composicion (Lt_555).txt',\n",
    "               './JUNIO_2003/SeaWiFS/Composicion (Lt_555).txt']\n",
    "modis_path = ['./FEBRERO_2003/MODIS/3_Bandas/Composicion (B12).txt',\n",
    "             './MARZO_2003/MODIS/Composicion (B12).txt',\n",
    "             './ABRIL_2003_CORREGIDOS/MODIS/Composicion (B12).txt',\n",
    "             './MAYO_2003/MODIS/Composicion (B12).txt',\n",
    "             './JUNIO_2003/MODIS/Composicion (B12).txt']\n",
    "\n",
    "meses = ['Febrero', 'Marzo', 'Abril', 'Mayo', 'Junio']\n",
    "\n",
    "for loc_seawifs, loc_modis, mes in zip(seawifs_path, modis_path, meses):\n",
    "    print(\"Análisis para el mes de {}\".format(mes))\n",
    "    # Para el sensor SeaWiFS.\n",
    "\n",
    "    with open(loc_seawifs) as archivo_seawifs:\n",
    "        for _ in range(5):\n",
    "            # Ignoramos los primeros 5 renglones del archivo.\n",
    "            archivo_seawifs.readline()\n",
    "        # Separamos los datos en una matriz.\n",
    "        datos_seawifs = np.array([archivo_seawifs.readline().split()\n",
    "                                  for _ in range(127)])\n",
    "\n",
    "    # Convertimos a reales.\n",
    "    datos_seawifs = np.array([[float(dat) for dat in row] for row in datos_seawifs])\n",
    "\n",
    "    # Para el sensor MODIS. Es lo mismo pero con otro archivo.\n",
    "\n",
    "    with open(loc_modis) as archivo_modis:\n",
    "        for _ in range(5):\n",
    "            # Ignoramos los primeros 5 renglones del archivo.\n",
    "            archivo_modis.readline()\n",
    "        # Separamos los datos en una matriz.\n",
    "        datos_modis = np.array([archivo_modis.readline().split()\n",
    "                                  for _ in range(127)])\n",
    "\n",
    "    # Convertimos a reales.\n",
    "    datos_modis = np.array([[float(dat) for dat in row] for row in datos_modis])\n",
    "\n",
    "    ##-----------------------------------------------\n",
    "\n",
    "    media_seawifs = np.mean(datos_seawifs)\n",
    "    media_modis = np.mean(datos_modis)\n",
    "\n",
    "    var_seawifs = np.var(datos_seawifs)\n",
    "    var_modis = np.var(datos_modis)\n",
    "\n",
    "    print(\"Promedio de los datos del SeaWiFS sin limpiar: {}.\".format(media_seawifs))\n",
    "    print(\"Promedio de los datos del MODIS sin limpiar: {}.\".format(media_modis))\n",
    "\n",
    "    print(\"Varianza de los datos del SeaWiFS sin limpiar: {}.\".format(var_seawifs))\n",
    "    print(\"Varianza de los datos del MODIS sin limpiar: {}.\".format(var_modis))\n",
    "\n",
    "    ##-----------------------------------------------\n",
    "\n",
    "    filter(datos_seawifs, 127, 167)\n",
    "    filter(datos_modis, 127, 167)\n",
    "\n",
    "    ##-----------------------------------------------\n",
    "\n",
    "    media_seawifs = np.mean(datos_seawifs)\n",
    "    media_modis = np.mean(datos_modis)\n",
    "\n",
    "    var_seawifs = np.var(datos_seawifs)\n",
    "    var_modis = np.var(datos_modis)\n",
    "\n",
    "    print(\"Promedio de los datos del SeaWiFS limpios: {}.\".format(media_seawifs))\n",
    "    print(\"Promedio de los datos del MODIS limpios: {}.\".format(media_modis))\n",
    "\n",
    "    print(\"Varianza de los datos del SeaWiFS limpios: {}.\".format(var_seawifs))\n",
    "    print(\"Varianza de los datos del MODIS limpios: {}.\".format(var_modis))\n",
    "\n",
    "    ##-----------------------------------------------\n",
    "\n",
    "    datos_comb = abs(datos_seawifs - datos_modis)\n",
    "    ma_comb = np.mean(datos_comb)\n",
    "    var_comb = np.var(datos_comb)\n",
    "\n",
    "    print(\"Media aritmética de las distancias entre pixeles: {}\".format(ma_comb))\n",
    "    print(\"Varianza de las distancias entre pixeles: {}.\\n\".format(var_comb))"
   ]
  }
 ],
 "metadata": {
  "@webio": {
   "lastCommId": "EB78624AD23943BE8198493B9250414F",
   "lastKernelId": "bdbfedda-c67c-440a-b40e-254e204cc62b"
  },
  "kernelspec": {
   "display_name": "Python 3",
   "language": "python",
   "name": "python3"
  },
  "language_info": {
   "codemirror_mode": {
    "name": "ipython",
    "version": 3
   },
   "file_extension": ".py",
   "mimetype": "text/x-python",
   "name": "python",
   "nbconvert_exporter": "python",
   "pygments_lexer": "ipython3",
   "version": "3.6.7"
  }
 },
 "nbformat": 4,
 "nbformat_minor": 2
}
