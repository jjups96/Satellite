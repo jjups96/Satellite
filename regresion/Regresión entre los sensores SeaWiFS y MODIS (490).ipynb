{
 "cells": [
  {
   "cell_type": "markdown",
   "metadata": {},
   "source": [
    "# Comparación entre bandas SeaWiFS(490) y MODIS(10)\n",
    "\n",
    "Primero cargaremos las librerias necesarias."
   ]
  },
  {
   "cell_type": "code",
   "execution_count": 1,
   "metadata": {},
   "outputs": [],
   "source": [
    "import numpy as np\n",
    "import pandas\n",
    "import matplotlib.pyplot as plt\n",
    "from scipy.stats import kde\n",
    "\n",
    "import seaborn as sns\n",
    "plt.style.use('seaborn')"
   ]
  },
  {
   "cell_type": "markdown",
   "metadata": {},
   "source": [
    "Cargaremos en memoria los datos de los sensores para enero de 2003. Los archivos fueron modificados para representar la pura matriz de datos."
   ]
  },
  {
   "cell_type": "code",
   "execution_count": 2,
   "metadata": {},
   "outputs": [],
   "source": [
    "# Para el sensor SeaWiFS.\n",
    "\n",
    "with open('Composicion_(Lt_490).txt') as archivo_seawifs:\n",
    "    for _ in range(5):\n",
    "        # Ignoramos los primeros 5 renglones del archivo.\n",
    "        archivo_seawifs.readline()\n",
    "    # Separamos los datos en una matriz.\n",
    "    datos_seawifs = np.array([archivo_seawifs.readline().split()\n",
    "                              for _ in range(127)])\n",
    "\n",
    "# Desenrrollamos y convertimos a reales.\n",
    "datos_seawifs = datos_seawifs.ravel()\n",
    "datos_seawifs = np.array([float(dat) for dat in datos_seawifs])"
   ]
  },
  {
   "cell_type": "code",
   "execution_count": 3,
   "metadata": {},
   "outputs": [],
   "source": [
    "# Para el sensor MODIS. Es lo mismo pero con otro archivo.\n",
    "\n",
    "with open('Composicion_(Band 10).txt') as archivo_modis:\n",
    "    for _ in range(5):\n",
    "        # Ignoramos los primeros 5 renglones del archivo.\n",
    "        archivo_modis.readline()\n",
    "    # Separamos los datos en una matriz.\n",
    "    datos_modis = np.array([archivo_modis.readline().split()\n",
    "                              for _ in range(127)])\n",
    "\n",
    "# Desenrrollamos y convertimos a reales.\n",
    "datos_modis = datos_modis.ravel()\n",
    "datos_modis = np.array([float(dat) for dat in datos_modis])"
   ]
  },
  {
   "cell_type": "markdown",
   "metadata": {},
   "source": [
    "Primero veremos la variación entre los valores de cada pixel"
   ]
  },
  {
   "cell_type": "code",
   "execution_count": 4,
   "metadata": {},
   "outputs": [
    {
     "name": "stdout",
     "output_type": "stream",
     "text": [
      "Promedio de los datos del SeaWiFS: 44.80587750011788.\n",
      "Promedio de los datos del MODIS: 42.81177717478429.\n",
      "Desviación estándar de los datos del SeaWiFS: 5.840954987606979.\n",
      "Desviación estándar de los datos del MODIS: 3.939091475421393.\n"
     ]
    }
   ],
   "source": [
    "media_seawifs = np.mean(datos_seawifs)\n",
    "media_modis = np.mean(datos_modis)\n",
    "\n",
    "desv_est_seawifs = np.std(datos_seawifs)\n",
    "desv_est_modis = np.std(datos_modis)\n",
    "\n",
    "print(\"Promedio de los datos del SeaWiFS: {}.\".format(media_seawifs))\n",
    "print(\"Promedio de los datos del MODIS: {}.\".format(media_modis))\n",
    "\n",
    "print(\"Desviación estándar de los datos del SeaWiFS: {}.\".format(desv_est_seawifs))\n",
    "print(\"Desviación estándar de los datos del MODIS: {}.\".format(desv_est_modis))"
   ]
  },
  {
   "cell_type": "markdown",
   "metadata": {},
   "source": [
    "Ahora limpiaremos rudimentariamente los datos."
   ]
  },
  {
   "cell_type": "code",
   "execution_count": 5,
   "metadata": {},
   "outputs": [
    {
     "data": {
      "text/plain": [
       "array([43.2616, 43.211 , 43.211 , ..., 43.6696, 43.6732, 43.6555])"
      ]
     },
     "execution_count": 5,
     "metadata": {},
     "output_type": "execute_result"
    }
   ],
   "source": [
    "tolerancia = 3\n",
    "\n",
    "for i in range(datos_seawifs.size):\n",
    "    if np.abs(datos_seawifs[i] - media_seawifs) > tolerancia:\n",
    "        datos_seawifs[i] = np.mean(datos_seawifs[0:i])\n",
    "\n",
    "datos_seawifs"
   ]
  },
  {
   "cell_type": "code",
   "execution_count": 6,
   "metadata": {},
   "outputs": [
    {
     "data": {
      "text/plain": [
       "array([41.1685, 41.1685, 41.1422, ..., 42.5366, 42.5614, 42.5545])"
      ]
     },
     "execution_count": 6,
     "metadata": {},
     "output_type": "execute_result"
    }
   ],
   "source": [
    "tolerancia = 3\n",
    "\n",
    "for i in range(datos_modis.size):\n",
    "    if np.abs(datos_modis[i] - media_modis) > tolerancia:\n",
    "        datos_modis[i] = np.mean(datos_modis[0:i])\n",
    "\n",
    "datos_modis"
   ]
  },
  {
   "cell_type": "code",
   "execution_count": 7,
   "metadata": {},
   "outputs": [
    {
     "data": {
      "text/plain": [
       "45.7937"
      ]
     },
     "execution_count": 7,
     "metadata": {},
     "output_type": "execute_result"
    }
   ],
   "source": [
    "np.max(datos_modis)"
   ]
  },
  {
   "cell_type": "markdown",
   "metadata": {},
   "source": [
    "Examinemos que tan diferentes son los valores para cada pixel."
   ]
  },
  {
   "cell_type": "code",
   "execution_count": 8,
   "metadata": {},
   "outputs": [
    {
     "name": "stdout",
     "output_type": "stream",
     "text": [
      "Media aritmética de las distancias entre pixeles: 1.5215700210993077\n",
      "Desviación estándar de las distancias entre pixeles: 0.5651985211125994.\n"
     ]
    }
   ],
   "source": [
    "datos_comb = abs(datos_seawifs - datos_modis)\n",
    "ma_comb = np.mean(datos_comb)\n",
    "desv_est_comb = np.std(datos_comb)\n",
    "\n",
    "print(\"Media aritmética de las distancias entre pixeles: {}\".format(ma_comb))\n",
    "print(\"Desviación estándar de las distancias entre pixeles: {}.\".format(desv_est_comb))"
   ]
  },
  {
   "cell_type": "markdown",
   "metadata": {},
   "source": [
    "Ahora calculamos la regresión lineal para los datos de ambos sensores."
   ]
  },
  {
   "cell_type": "code",
   "execution_count": 9,
   "metadata": {},
   "outputs": [],
   "source": [
    "# Calculamos los coeficientes del ajuste lineal\n",
    "a, b = np.polyfit(datos_seawifs, datos_modis, 1)\n",
    "# Calculamos el coeficiente de correlación\n",
    "r = np.corrcoef(datos_seawifs, datos_modis)"
   ]
  },
  {
   "cell_type": "markdown",
   "metadata": {},
   "source": [
    "Y graficamos los resultados."
   ]
  },
  {
   "cell_type": "code",
   "execution_count": 12,
   "metadata": {
    "scrolled": false
   },
   "outputs": [
    {
     "data": {
      "text/plain": [
       "[<matplotlib.lines.Line2D at 0x7f024d8d3828>]"
      ]
     },
     "execution_count": 12,
     "metadata": {},
     "output_type": "execute_result"
    },
    {
     "data": {
      "image/png": "[encoded data removed]",
      "text/plain": [
       "<Figure size 432x288 with 1 Axes>"
      ]
     },
     "metadata": {},
     "output_type": "display_data"
    }
   ],
   "source": [
    "plt.plot(datos_seawifs, datos_modis, linestyle='', marker='o', markersize=2)\n",
    "\n",
    "plt.xlim(np.min(datos_seawifs) - 1, np.max(datos_seawifs) + 1)\n",
    "plt.ylim(np.min(datos_modis) - 1, np.max(datos_modis) + 1)\n",
    "\n",
    "plt.xlabel(\"SeaWiFS\")\n",
    "plt.ylabel(\"MODIS\")\n",
    "\n",
    "plt.title(\"Comparación de los sensores para Enero de 2003\")\n",
    "\n",
    "#plt.text(4, 0, 'r = {0:2.3f}'.format(r[0,1]))\n",
    "#plt.text(4, 3, 'Y = {0:2.3f} X + {1:2.3f}'.format(a, b))\n",
    "\n",
    "# El ajuste calculado.\n",
    "plt.plot(datos_seawifs, a * datos_seawifs + b,\"r\")"
   ]
  },
  {
   "cell_type": "code",
   "execution_count": 13,
   "metadata": {},
   "outputs": [
    {
     "name": "stdout",
     "output_type": "stream",
     "text": [
      "r = 0.567\n",
      "Y = 0.531 X + 18.785\n"
     ]
    }
   ],
   "source": [
    "print(\"r = {0:2.3f}\".format(r[0,1]))\n",
    "print(\"Y = {0:2.3f} X + {1:2.3f}\".format(a, b))"
   ]
  },
  {
   "cell_type": "markdown",
   "metadata": {},
   "source": [
    "## Otras formas de verlo"
   ]
  },
  {
   "cell_type": "code",
   "execution_count": 14,
   "metadata": {},
   "outputs": [
    {
     "data": {
      "text/plain": [
       "<matplotlib.contour.QuadContourSet at 0x7f024d797cc0>"
      ]
     },
     "execution_count": 14,
     "metadata": {},
     "output_type": "execute_result"
    },
    {
     "data": {
      "image/png": "[encoded data removed]",
      "text/plain": [
       "<Figure size 1512x360 with 6 Axes>"
      ]
     },
     "metadata": {},
     "output_type": "display_data"
    }
   ],
   "source": [
    "v=[50,70,50,70]\n",
    "\n",
    "# Create a figure with 6 plot areas\n",
    "fig, axes = plt.subplots(ncols=6, nrows=1, figsize=(21, 5))\n",
    "\n",
    "x , y= datos_seawifs, datos_modis\n",
    "# Everything sarts with a Scatterplot\n",
    "axes[0].set_title('Scatterplot')\n",
    "axes[0].axis(v)\n",
    "axes[0].plot(x, y, 'ko')\n",
    "# As you can see there is a lot of overplottin here!\n",
    " \n",
    "# Thus we can cut the plotting window in several hexbins\n",
    "nbins = 20\n",
    "axes[1].set_title('Hexbin')\n",
    "axes[1].axis(v)\n",
    "axes[1].hexbin(x, y, gridsize=nbins, cmap=\"jet\")\n",
    "\n",
    " \n",
    "# 2D Histogram\n",
    "axes[2].set_title('2D Histogram')\n",
    "axes[2].hist2d(x, y, bins=nbins, cmap=\"jet\")\n",
    "axes[2].axis(v)\n",
    " \n",
    "# Evaluate a gaussian kde on a regular grid of nbins x nbins over data extents\n",
    "k = kde.gaussian_kde((x,y))\n",
    "xi, yi = np.mgrid[x.min():x.max():nbins*1j, y.min():y.max():nbins*1j]\n",
    "zi = k(np.vstack([xi.flatten(), yi.flatten()]))\n",
    " \n",
    "# plot a density\n",
    "axes[3].set_title('Calculate Gaussian KDE')\n",
    "axes[3].axis(v)\n",
    "axes[3].pcolormesh(xi, yi, zi.reshape(xi.shape), cmap=\"jet\")\n",
    " \n",
    "# add shading\n",
    "axes[4].set_title('2D Density with shading')\n",
    "axes[4].axis(v)\n",
    "axes[4].pcolormesh(xi, yi, zi.reshape(xi.shape), shading='gouraud', cmap=\"jet\")\n",
    " \n",
    "# contour\n",
    "axes[5].set_title('Contour')\n",
    "axes[5].axis(v)\n",
    "axes[5].pcolormesh(xi, yi, zi.reshape(xi.shape), shading='gouraud', cmap=\"jet\")\n",
    "axes[5].contour(xi, yi, zi.reshape(xi.shape) )\n"
   ]
  },
  {
   "cell_type": "markdown",
   "metadata": {},
   "source": [
    "### Comparación para el mes de febrero"
   ]
  },
  {
   "cell_type": "code",
   "execution_count": 31,
   "metadata": {},
   "outputs": [
    {
     "data": {
      "text/plain": [
       "[<matplotlib.lines.Line2D at 0x7f024913d5f8>]"
      ]
     },
     "execution_count": 31,
     "metadata": {},
     "output_type": "execute_result"
    },
    {
     "data": {
      "image/png": "[encoded data removed]",
      "text/plain": [
       "<Figure size 432x288 with 1 Axes>"
      ]
     },
     "metadata": {},
     "output_type": "display_data"
    }
   ],
   "source": [
    "# Para el sensor SeaWiFS.\n",
    "\n",
    "with open('FEBRERO_2003/SeaWiFS/3_Bandas/Composicion (Lt_490).txt') as archivo_seawifs:\n",
    "    for _ in range(5):\n",
    "        # Ignoramos los primeros 5 renglones del archivo.\n",
    "        archivo_seawifs.readline()\n",
    "    # Separamos los datos en una matriz.\n",
    "    datos_seawifs = np.array([archivo_seawifs.readline().split()\n",
    "                              for _ in range(127)])\n",
    "\n",
    "# Desenrrollamos y convertimos a reales.\n",
    "datos_seawifs = datos_seawifs.ravel()\n",
    "datos_seawifs_feb = np.array([float(dat) for dat in datos_seawifs])\n",
    "\n",
    "# Para el sensor MODIS. Es lo mismo pero con otro archivo.\n",
    "\n",
    "with open('FEBRERO_2003/MODIS/3_Bandas/Composicion (B10).txt') as archivo_modis:\n",
    "    for _ in range(5):\n",
    "        # Ignoramos los primeros 5 renglones del archivo.\n",
    "        archivo_modis.readline()\n",
    "    # Separamos los datos en una matriz.\n",
    "    datos_modis = np.array([archivo_modis.readline().split()\n",
    "                              for _ in range(127)])\n",
    "\n",
    "# Desenrrollamos y convertimos a reales.\n",
    "datos_modis = datos_modis.ravel()\n",
    "datos_modis_feb = np.array([float(dat) for dat in datos_modis])\n",
    "\n",
    "# Calculamos los coeficientes del ajuste lineal\n",
    "a, b = np.polyfit(datos_seawifs_feb, datos_modis_feb, 1)\n",
    "# Calculamos el coeficiente de correlación\n",
    "r = np.corrcoef(datos_seawifs_feb, datos_modis_feb)\n",
    "\n",
    "plt.plot(datos_seawifs_feb, datos_modis_feb, linestyle='', marker='o', markersize=2)\n",
    "\n",
    "plt.xlim(np.min(datos_seawifs_feb) - 1, np.max(datos_seawifs_feb) + 1)\n",
    "plt.ylim(np.min(datos_modis_feb) - 1, np.max(datos_modis_feb) + 1)\n",
    "\n",
    "plt.xlabel(\"SeaWiFS\")\n",
    "plt.ylabel(\"MODIS\")\n",
    "\n",
    "plt.title(\"Comparación de los sensores para Febrero de 2003\")\n",
    "\n",
    "# El ajuste calculado.\n",
    "plt.plot(datos_seawifs_feb, a * datos_seawifs_feb + b)"
   ]
  },
  {
   "cell_type": "code",
   "execution_count": 32,
   "metadata": {},
   "outputs": [
    {
     "name": "stdout",
     "output_type": "stream",
     "text": [
      "r = 0.765\n",
      "Y = 0.334 X + 26.277\n"
     ]
    }
   ],
   "source": [
    "print(\"r = {0:2.3f}\".format(r[0,1]))\n",
    "print(\"Y = {0:2.3f} X + {1:2.3f}\".format(a, b))"
   ]
  },
  {
   "cell_type": "markdown",
   "metadata": {},
   "source": [
    "#### Varianza entre los datos"
   ]
  },
  {
   "cell_type": "code",
   "execution_count": 34,
   "metadata": {},
   "outputs": [
    {
     "name": "stdout",
     "output_type": "stream",
     "text": [
      "Datos del SeaWiFS para febrero: [46.7706 46.7706 47.6433 ... 46.4078 46.4152 46.8293]\n",
      "Datos del MODIS para febrero: [40.9027 40.9476 41.0417 ... 41.8585 41.8902 41.9314]\n"
     ]
    }
   ],
   "source": [
    "media_seawifs_feb = np.mean(datos_seawifs_feb)\n",
    "media_modis_feb = np.mean(datos_modis_feb)\n",
    "\n",
    "desv_est_seawifs_feb = np.std(datos_seawifs_feb)\n",
    "desv_est_modis_feb = np.std(datos_modis_feb)\n",
    "\n",
    "tolerancia = 5\n",
    "\n",
    "for i in range(datos_seawifs_feb.size):\n",
    "    if np.abs(datos_seawifs_feb[i] - media_seawifs_feb) > tolerancia:\n",
    "        datos_seawifs_feb[i] = np.mean(datos_seawifs_feb[0:i])\n",
    "\n",
    "tolerancia = 3\n",
    "\n",
    "for i in range(datos_modis_feb.size):\n",
    "    if np.abs(datos_modis_feb[i] - media_modis_feb) > tolerancia:\n",
    "        datos_modis_feb[i] = np.mean(datos_modis_feb[0:i])\n",
    "        \n",
    "print(\"Datos del SeaWiFS para febrero: {}\".format(datos_seawifs_feb))\n",
    "print(\"Datos del MODIS para febrero: {}\".format(datos_modis_feb))"
   ]
  },
  {
   "cell_type": "code",
   "execution_count": 35,
   "metadata": {},
   "outputs": [
    {
     "data": {
      "text/plain": [
       "[<matplotlib.lines.Line2D at 0x7f024b25fda0>]"
      ]
     },
     "execution_count": 35,
     "metadata": {},
     "output_type": "execute_result"
    },
    {
     "data": {
      "image/png": "[encoded data removed]",
      "text/plain": [
       "<Figure size 432x288 with 1 Axes>"
      ]
     },
     "metadata": {},
     "output_type": "display_data"
    }
   ],
   "source": [
    "# Calculamos los coeficientes del ajuste lineal\n",
    "a, b = np.polyfit(datos_seawifs_feb, datos_modis_feb, 1)\n",
    "# Calculamos el coeficiente de correlación\n",
    "r = np.corrcoef(datos_seawifs_feb, datos_modis_feb)\n",
    "\n",
    "plt.plot(datos_seawifs_feb, datos_modis_feb, linestyle='', marker='o', markersize=2)\n",
    "\n",
    "plt.xlim(np.min(datos_seawifs_feb) - 1, np.max(datos_seawifs_feb) + 1)\n",
    "plt.ylim(np.min(datos_modis_feb) - 1, np.max(datos_modis_feb) + 1)\n",
    "\n",
    "plt.xlabel(\"SeaWiFS\")\n",
    "plt.ylabel(\"MODIS\")\n",
    "\n",
    "plt.title(\"Comparación de los sensores para Febrero de 2003\")\n",
    "\n",
    "# El ajuste calculado.\n",
    "plt.plot(datos_seawifs_feb, a * datos_seawifs_feb + b)"
   ]
  },
  {
   "cell_type": "code",
   "execution_count": 36,
   "metadata": {},
   "outputs": [
    {
     "name": "stdout",
     "output_type": "stream",
     "text": [
      "r = 0.109\n",
      "Y = 0.046 X + 39.626\n"
     ]
    }
   ],
   "source": [
    "print(\"r = {0:2.3f}\".format(r[0,1]))\n",
    "print(\"Y = {0:2.3f} X + {1:2.3f}\".format(a, b))"
   ]
  },
  {
   "cell_type": "code",
   "execution_count": 37,
   "metadata": {},
   "outputs": [
    {
     "name": "stdout",
     "output_type": "stream",
     "text": [
      "Media aritmética de las distancias entre pixeles: 5.267112011099661\n",
      "Desviación estándar de las distancias entre pixeles: 1.77939534944927.\n"
     ]
    }
   ],
   "source": [
    "datos_comb_feb = abs(datos_seawifs_feb - datos_modis_feb)\n",
    "ma_comb_feb = np.mean(datos_comb_feb)\n",
    "desv_est_comb_feb = np.std(datos_comb_feb)\n",
    "\n",
    "print(\"Media aritmética de las distancias entre pixeles: {}\".format(ma_comb_feb))\n",
    "print(\"Desviación estándar de las distancias entre pixeles: {}.\".format(desv_est_comb_feb))"
   ]
  },
  {
   "cell_type": "markdown",
   "metadata": {},
   "source": [
    "### Comparación para el mes de Marzo"
   ]
  },
  {
   "cell_type": "code",
   "execution_count": null,
   "metadata": {
    "scrolled": false
   },
   "outputs": [],
   "source": [
    "# Para el sensor SeaWiFS.\n",
    "\n",
    "with open('MARZO_2003/SeaWiFS/Composicion (Lt_490).txt') as archivo_seawifs:\n",
    "    for _ in range(5):\n",
    "        # Ignoramos los primeros 5 renglones del archivo.\n",
    "        archivo_seawifs.readline()\n",
    "    # Separamos los datos en una matriz.\n",
    "    datos_seawifs = np.array([archivo_seawifs.readline().split()\n",
    "                              for _ in range(127)])\n",
    "\n",
    "# Desenrrollamos y convertimos a reales.\n",
    "datos_seawifs = datos_seawifs.ravel()\n",
    "datos_seawifs_mar = np.array([float(dat) for dat in datos_seawifs])\n",
    "\n",
    "# Para el sensor MODIS. Es lo mismo pero con otro archivo.\n",
    "\n",
    "with open('MARZO_2003/MODIS/Composicion (B10).txt') as archivo_modis:\n",
    "    for _ in range(5):\n",
    "        # Ignoramos los primeros 5 renglones del archivo.\n",
    "        archivo_modis.readline()\n",
    "    # Separamos los datos en una matriz.\n",
    "    datos_modis = np.array([archivo_modis.readline().split()\n",
    "                              for _ in range(127)])\n",
    "\n",
    "# Desenrrollamos y convertimos a reales.\n",
    "datos_modis = datos_modis.ravel()\n",
    "datos_modis_mar = np.array([float(dat) for dat in datos_modis])\n",
    "\n",
    "# Calculamos los coeficientes del ajuste lineal\n",
    "a, b = np.polyfit(datos_seawifs_mar, datos_modis_mar, 1)\n",
    "# Calculamos el coeficiente de correlación\n",
    "r = np.corrcoef(datos_seawifs_mar, datos_modis_mar)\n",
    "\n",
    "plt.plot(datos_seawifs_mar, datos_modis_mar, linestyle='', marker='o', markersize=2)\n",
    "\n",
    "plt.xlim(np.min(datos_seawifs_mar) - 1, np.max(datos_seawifs_mar) + 1)\n",
    "plt.ylim(np.min(datos_modis_mar) - 1, np.max(datos_modis_mar) + 1)\n",
    "\n",
    "plt.xlabel(\"SeaWiFS\")\n",
    "plt.ylabel(\"MODIS\")\n",
    "\n",
    "plt.title(\"Comparación de los sensores para Marzo de 2003\")\n",
    "\n",
    "plt.text(4, 0, 'r = {0:2.3f}'.format(r[0,1]))\n",
    "plt.text(4, 3, 'Y = {0:2.3f} X + {1:2.3f}'.format(a, b))\n",
    "\n",
    "# El ajuste calculado.\n",
    "plt.plot(datos_seawifs_mar, a * datos_seawifs_mar + b)"
   ]
  },
  {
   "cell_type": "markdown",
   "metadata": {},
   "source": [
    "#### Varianza entre los datos"
   ]
  },
  {
   "cell_type": "code",
   "execution_count": null,
   "metadata": {},
   "outputs": [],
   "source": [
    "datos_comb_mar = abs(datos_seawifs_mar - datos_modis_mar)\n",
    "ma_comb_mar = np.mean(datos_comb_mar)\n",
    "desv_est_comb_mar = np.std(datos_comb_mar)\n",
    "\n",
    "print(\"Media aritmética de las distancias entre pixeles: {}\".format(ma_comb_mar))\n",
    "print(\"Desviación estándar de las distancias entre pixeles: {}.\".format(desv_est_comb_mar))"
   ]
  },
  {
   "cell_type": "markdown",
   "metadata": {},
   "source": [
    "### Comparación para el mes de Abril"
   ]
  },
  {
   "cell_type": "code",
   "execution_count": null,
   "metadata": {},
   "outputs": [],
   "source": [
    "# Para el sensor SeaWiFS.\n",
    "\n",
    "with open('ABRIL_2003/SeaWiFS/Composicion (Lt_490).txt') as archivo_seawifs:\n",
    "    for _ in range(5):\n",
    "        # Ignoramos los primeros 5 renglones del archivo.\n",
    "        archivo_seawifs.readline()\n",
    "    # Separamos los datos en una matriz.\n",
    "    datos_seawifs = np.array([archivo_seawifs.readline().split()\n",
    "                              for _ in range(127)])\n",
    "\n",
    "# Desenrrollamos y convertimos a reales.\n",
    "datos_seawifs = datos_seawifs.ravel()\n",
    "datos_seawifs_abr = np.array([float(dat) for dat in datos_seawifs])\n",
    "\n",
    "# Para el sensor MODIS. Es lo mismo pero con otro archivo.\n",
    "\n",
    "with open('ABRIL_2003/MODIS/Composicion (B10).txt') as archivo_modis:\n",
    "    for _ in range(5):\n",
    "        # Ignoramos los primeros 5 renglones del archivo.\n",
    "        archivo_modis.readline()\n",
    "    # Separamos los datos en una matriz.\n",
    "    datos_modis = np.array([archivo_modis.readline().split()\n",
    "                              for _ in range(127)])\n",
    "\n",
    "# Desenrrollamos y convertimos a reales.\n",
    "datos_modis = datos_modis.ravel()\n",
    "datos_modis_abr = np.array([float(dat) for dat in datos_modis])\n",
    "\n",
    "# Calculamos los coeficientes del ajuste lineal\n",
    "a, b = np.polyfit(datos_seawifs_abr, datos_modis_abr, 1)\n",
    "# Calculamos el coeficiente de correlación\n",
    "r = np.corrcoef(datos_seawifs_abr, datos_modis_abr)\n",
    "\n",
    "plt.plot(datos_seawifs_abr, datos_modis_abr, linestyle='', marker='o', markersize=2)\n",
    "\n",
    "plt.xlim(np.min(datos_seawifs_abr) - 1, np.max(datos_seawifs_abr) + 1)\n",
    "plt.ylim(np.min(datos_modis_abr) - 1, np.max(datos_modis_abr) + 1)\n",
    "\n",
    "plt.xlabel(\"SeaWiFS\")\n",
    "plt.ylabel(\"MODIS\")\n",
    "\n",
    "plt.title(\"Comparación de los sensores para Abril de 2003\")\n",
    "\n",
    "plt.text(4, 0, 'r = {0:2.3f}'.format(r[0,1]))\n",
    "plt.text(4, 3, 'Y = {0:2.3f} X + {1:2.3f}'.format(a, b))\n",
    "\n",
    "# El ajuste calculado.\n",
    "plt.plot(datos_seawifs_abr, a * datos_seawifs_abr + b,\"r\")"
   ]
  },
  {
   "cell_type": "markdown",
   "metadata": {},
   "source": [
    "#### Varianza entre los datos"
   ]
  },
  {
   "cell_type": "code",
   "execution_count": null,
   "metadata": {},
   "outputs": [],
   "source": [
    "datos_comb_abr = abs(datos_seawifs_abr - datos_modis_abr)\n",
    "ma_comb_abr = np.mean(datos_comb_abr)\n",
    "desv_est_comb_abr = np.std(datos_comb_abr)\n",
    "\n",
    "print(\"Media aritmética de las distancias entre pixeles: {}\".format(ma_comb_abr))\n",
    "print(\"Desviación estándar de las distancias entre pixeles: {}.\".format(desv_est_comb_abr))"
   ]
  },
  {
   "cell_type": "markdown",
   "metadata": {},
   "source": [
    "### Comparación para el mes de Mayo"
   ]
  },
  {
   "cell_type": "code",
   "execution_count": null,
   "metadata": {},
   "outputs": [],
   "source": [
    "# Para el sensor SeaWiFS.\n",
    "\n",
    "with open('MAYO_2003/SeaWiFS/Composicion (Lt_490).txt') as archivo_seawifs:\n",
    "    for _ in range(5):\n",
    "        # Ignoramos los primeros 5 renglones del archivo.\n",
    "        archivo_seawifs.readline()\n",
    "    # Separamos los datos en una matriz.\n",
    "    datos_seawifs = np.array([archivo_seawifs.readline().split()\n",
    "                              for _ in range(127)])\n",
    "\n",
    "# Desenrrollamos y convertimos a reales.\n",
    "datos_seawifs = datos_seawifs.ravel()\n",
    "datos_seawifs_may = np.array([float(dat) for dat in datos_seawifs])\n",
    "\n",
    "# Para el sensor MODIS. Es lo mismo pero con otro archivo.\n",
    "\n",
    "with open('MAYO_2003/MODIS/Composicion (B10).txt') as archivo_modis:\n",
    "    for _ in range(5):\n",
    "        # Ignoramos los primeros 5 renglones del archivo.\n",
    "        archivo_modis.readline()\n",
    "    # Separamos los datos en una matriz.\n",
    "    datos_modis = np.array([archivo_modis.readline().split()\n",
    "                              for _ in range(127)])\n",
    "\n",
    "# Desenrrollamos y convertimos a reales.\n",
    "datos_modis = datos_modis.ravel()\n",
    "datos_modis_may = np.array([float(dat) for dat in datos_modis])\n",
    "\n",
    "# Calculamos los coeficientes del ajuste lineal\n",
    "a, b = np.polyfit(datos_seawifs_may, datos_modis_may, 1)\n",
    "# Calculamos el coeficiente de correlación\n",
    "r = np.corrcoef(datos_seawifs_may, datos_modis_may)\n",
    "\n",
    "plt.plot(datos_seawifs_may, datos_modis_may, linestyle='', marker='o', markersize=2)\n",
    "\n",
    "plt.xlim(np.min(datos_seawifs_may) - 1, np.max(datos_seawifs_may) + 1)\n",
    "plt.ylim(np.min(datos_modis_may) - 1, np.max(datos_modis_may) + 1)\n",
    "\n",
    "plt.xlabel(\"SeaWiFS\")\n",
    "plt.ylabel(\"MODIS\")\n",
    "\n",
    "plt.title(\"Comparación de los sensores para Mayo de 2003\")\n",
    "\n",
    "plt.text(4, 0, 'r = {0:2.3f}'.format(r[0,1]))\n",
    "plt.text(4, 3, 'Y = {0:2.3f} X + {1:2.3f}'.format(a, b))\n",
    "\n",
    "# El ajuste calculado.\n",
    "plt.plot(datos_seawifs_may, a * datos_seawifs_may + b, \"r\")"
   ]
  },
  {
   "cell_type": "markdown",
   "metadata": {},
   "source": [
    "#### Varianza entre los datos"
   ]
  },
  {
   "cell_type": "code",
   "execution_count": null,
   "metadata": {},
   "outputs": [],
   "source": [
    "datos_comb_may = abs(datos_seawifs_may - datos_modis_may)\n",
    "ma_comb_may = np.mean(datos_comb_may)\n",
    "desv_est_comb_may = np.std(datos_comb_may)\n",
    "\n",
    "print(\"Media aritmética de las distancias entre pixeles: {}\".format(ma_comb_may))\n",
    "print(\"Desviación estándar de las distancias entre pixeles: {}.\".format(desv_est_comb_may))"
   ]
  },
  {
   "cell_type": "markdown",
   "metadata": {},
   "source": [
    "### Comparación para el mes de Junio"
   ]
  },
  {
   "cell_type": "code",
   "execution_count": null,
   "metadata": {},
   "outputs": [],
   "source": [
    "# Para el sensor SeaWiFS.\n",
    "\n",
    "with open('JUNIO_2003/SeaWiFS/Composicion (Lt_490).txt') as archivo_seawifs:\n",
    "    for _ in range(5):\n",
    "        # Ignoramos los primeros 5 renglones del archivo.\n",
    "        archivo_seawifs.readline()\n",
    "    # Separamos los datos en una matriz.\n",
    "    datos_seawifs = np.array([archivo_seawifs.readline().split()\n",
    "                              for _ in range(127)])\n",
    "\n",
    "# Desenrrollamos y convertimos a reales.\n",
    "datos_seawifs = datos_seawifs.ravel()\n",
    "datos_seawifs_jun = np.array([float(dat) for dat in datos_seawifs])\n",
    "\n",
    "# Para el sensor MODIS. Es lo mismo pero con otro archivo.\n",
    "\n",
    "with open('JUNIO_2003/MODIS/Composicion (B10).txt') as archivo_modis:\n",
    "    for _ in range(5):\n",
    "        # Ignoramos los primeros 5 renglones del archivo.\n",
    "        archivo_modis.readline()\n",
    "    # Separamos los datos en una matriz.\n",
    "    datos_modis = np.array([archivo_modis.readline().split()\n",
    "                              for _ in range(127)])\n",
    "\n",
    "# Desenrrollamos y convertimos a reales.\n",
    "datos_modis = datos_modis.ravel()\n",
    "datos_modis_jun = np.array([float(dat) for dat in datos_modis])\n",
    "\n",
    "# Calculamos los coeficientes del ajuste lineal\n",
    "a, b = np.polyfit(datos_seawifs_jun, datos_modis_jun, 1)\n",
    "# Calculamos el coeficiente de correlación\n",
    "r = np.corrcoef(datos_seawifs_jun, datos_modis_jun)\n",
    "\n",
    "plt.plot(datos_seawifs_jun, datos_modis_jun, linestyle='', marker='o', markersize=2)\n",
    "\n",
    "plt.xlim(np.min(datos_seawifs_jun) - 1, np.max(datos_seawifs_jun) + 1)\n",
    "plt.ylim(np.min(datos_modis_jun) - 1, np.max(datos_modis_jun) + 1)\n",
    "\n",
    "plt.xlabel(\"SeaWiFS\")\n",
    "plt.ylabel(\"MODIS\")\n",
    "\n",
    "plt.title(\"Comparación de los sensores para Junio de 2003\")\n",
    "\n",
    "plt.text(4, 0, 'r = {0:2.3f}'.format(r[0,1]))\n",
    "plt.text(4, 3, 'Y = {0:2.3f} X + {1:2.3f}'.format(a, b))\n",
    "\n",
    "# El ajuste calculado.\n",
    "plt.plot(datos_seawifs_jun, a * datos_seawifs_jun + b,\"r\")"
   ]
  },
  {
   "cell_type": "markdown",
   "metadata": {},
   "source": [
    "#### Varianza entre los datos"
   ]
  },
  {
   "cell_type": "code",
   "execution_count": null,
   "metadata": {},
   "outputs": [],
   "source": [
    "datos_comb_jun = abs(datos_seawifs_jun - datos_modis_jun)\n",
    "ma_comb_jun = np.mean(datos_comb_jun)\n",
    "desv_est_comb_jun = np.std(datos_comb_jun)\n",
    "\n",
    "print(\"Media aritmética de las distancias entre pixeles: {}\".format(ma_comb_jun))\n",
    "print(\"Desviación estándar de las distancias entre pixeles: {}.\".format(desv_est_comb_jun))"
   ]
  },
  {
   "cell_type": "markdown",
   "metadata": {},
   "source": [
    "### Se experimenta con la representacion de hexbin"
   ]
  },
  {
   "cell_type": "code",
   "execution_count": null,
   "metadata": {},
   "outputs": [],
   "source": [
    "# Evaluate a gaussian kde on a regular grid of nbins x nbins over data extents\n",
    "nbins = 300\n",
    "k = kde.gaussian_kde([datos_seawifs, datos_modis])\n",
    "xi, yi = np.mgrid[datos_seawifs.min():datos_seawifs.max():nbins*1j, datos_modis.min():datos_modis.max():nbins*1j]\n",
    "zi = k(np.vstack([xi.flatten(), yi.flatten()]))\n"
   ]
  },
  {
   "cell_type": "code",
   "execution_count": null,
   "metadata": {},
   "outputs": [],
   "source": [
    "# Make the plot\n",
    "plt.hexbin(datos_seawifs, datos_modis, gridsize=(300,300),bins=\"log\",cmap=\"jet\")\n",
    "plt.show()"
   ]
  },
  {
   "cell_type": "code",
   "execution_count": null,
   "metadata": {},
   "outputs": [],
   "source": [
    "# We can control the size of the bins:\n",
    "\n",
    "plt.hexbin(datos_seawifs, datos_modis, gridsize=(300,300),cmap=\"jet\")\n",
    "v=[51,70,52,70]\n",
    "plt.axis(v)\n",
    "plt.show()\n"
   ]
  },
  {
   "cell_type": "code",
   "execution_count": null,
   "metadata": {},
   "outputs": [],
   "source": [
    "plt.hexbin(datos_seawifs, datos_modis, gridsize=(300,300),bins=\"log\",cmap=\"jet\")\n",
    "v=[50,70,50,70]\n",
    "plt.axis(v)\n",
    "plt.show()"
   ]
  }
 ],
 "metadata": {
  "kernelspec": {
   "display_name": "Python 3",
   "language": "python",
   "name": "python3"
  },
  "language_info": {
   "codemirror_mode": {
    "name": "ipython",
    "version": 3
   },
   "file_extension": ".py",
   "mimetype": "text/x-python",
   "name": "python",
   "nbconvert_exporter": "python",
   "pygments_lexer": "ipython3",
   "version": "3.6.6"
  }
 },
 "nbformat": 4,
 "nbformat_minor": 2
}
